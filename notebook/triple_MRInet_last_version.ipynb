{
  "nbformat": 4,
  "nbformat_minor": 0,
  "metadata": {
    "colab": {
      "name": "triple MRInet.ipynb",
      "provenance": [],
      "collapsed_sections": [],
      "authorship_tag": "ABX9TyPhY7zF3CHLczkcRMRkuWXb",
      "include_colab_link": true
    },
    "kernelspec": {
      "name": "python3",
      "display_name": "Python 3"
    },
    "accelerator": "GPU",
    "widgets": {
      "application/vnd.jupyter.widget-state+json": {
        "5080541ee0af40b0a92b475bf2a34936": {
          "model_module": "@jupyter-widgets/controls",
          "model_name": "HBoxModel",
          "state": {
            "_view_name": "HBoxView",
            "_dom_classes": [],
            "_model_name": "HBoxModel",
            "_view_module": "@jupyter-widgets/controls",
            "_model_module_version": "1.5.0",
            "_view_count": null,
            "_view_module_version": "1.5.0",
            "box_style": "",
            "layout": "IPY_MODEL_5ee4d212917e433d872a72adef9c5906",
            "_model_module": "@jupyter-widgets/controls",
            "children": [
              "IPY_MODEL_4fa23fed5fe04542b6025ee77ae5b167",
              "IPY_MODEL_27ca015452c94379a8a78fe9177f7707"
            ]
          }
        },
        "5ee4d212917e433d872a72adef9c5906": {
          "model_module": "@jupyter-widgets/base",
          "model_name": "LayoutModel",
          "state": {
            "_view_name": "LayoutView",
            "grid_template_rows": null,
            "right": null,
            "justify_content": null,
            "_view_module": "@jupyter-widgets/base",
            "overflow": null,
            "_model_module_version": "1.2.0",
            "_view_count": null,
            "flex_flow": null,
            "width": null,
            "min_width": null,
            "border": null,
            "align_items": null,
            "bottom": null,
            "_model_module": "@jupyter-widgets/base",
            "top": null,
            "grid_column": null,
            "overflow_y": null,
            "overflow_x": null,
            "grid_auto_flow": null,
            "grid_area": null,
            "grid_template_columns": null,
            "flex": null,
            "_model_name": "LayoutModel",
            "justify_items": null,
            "grid_row": null,
            "max_height": null,
            "align_content": null,
            "visibility": null,
            "align_self": null,
            "height": null,
            "min_height": null,
            "padding": null,
            "grid_auto_rows": null,
            "grid_gap": null,
            "max_width": null,
            "order": null,
            "_view_module_version": "1.2.0",
            "grid_template_areas": null,
            "object_position": null,
            "object_fit": null,
            "grid_auto_columns": null,
            "margin": null,
            "display": null,
            "left": null
          }
        },
        "4fa23fed5fe04542b6025ee77ae5b167": {
          "model_module": "@jupyter-widgets/controls",
          "model_name": "FloatProgressModel",
          "state": {
            "_view_name": "ProgressView",
            "style": "IPY_MODEL_c30883e6f0004beb94e9f3206fd0c147",
            "_dom_classes": [],
            "description": "100%",
            "_model_name": "FloatProgressModel",
            "bar_style": "success",
            "max": 244418560,
            "_view_module": "@jupyter-widgets/controls",
            "_model_module_version": "1.5.0",
            "value": 244418560,
            "_view_count": null,
            "_view_module_version": "1.5.0",
            "orientation": "horizontal",
            "min": 0,
            "description_tooltip": null,
            "_model_module": "@jupyter-widgets/controls",
            "layout": "IPY_MODEL_47efffecf4444b7e8035468e05f63ca8"
          }
        },
        "27ca015452c94379a8a78fe9177f7707": {
          "model_module": "@jupyter-widgets/controls",
          "model_name": "HTMLModel",
          "state": {
            "_view_name": "HTMLView",
            "style": "IPY_MODEL_a78e9c39911b430faea47e3c381596f0",
            "_dom_classes": [],
            "description": "",
            "_model_name": "HTMLModel",
            "placeholder": "​",
            "_view_module": "@jupyter-widgets/controls",
            "_model_module_version": "1.5.0",
            "value": " 233M/233M [06:29&lt;00:00, 627kB/s]",
            "_view_count": null,
            "_view_module_version": "1.5.0",
            "description_tooltip": null,
            "_model_module": "@jupyter-widgets/controls",
            "layout": "IPY_MODEL_0c1814a09a6c4093b73d6a18c5d278b9"
          }
        },
        "c30883e6f0004beb94e9f3206fd0c147": {
          "model_module": "@jupyter-widgets/controls",
          "model_name": "ProgressStyleModel",
          "state": {
            "_view_name": "StyleView",
            "_model_name": "ProgressStyleModel",
            "description_width": "initial",
            "_view_module": "@jupyter-widgets/base",
            "_model_module_version": "1.5.0",
            "_view_count": null,
            "_view_module_version": "1.2.0",
            "bar_color": null,
            "_model_module": "@jupyter-widgets/controls"
          }
        },
        "47efffecf4444b7e8035468e05f63ca8": {
          "model_module": "@jupyter-widgets/base",
          "model_name": "LayoutModel",
          "state": {
            "_view_name": "LayoutView",
            "grid_template_rows": null,
            "right": null,
            "justify_content": null,
            "_view_module": "@jupyter-widgets/base",
            "overflow": null,
            "_model_module_version": "1.2.0",
            "_view_count": null,
            "flex_flow": null,
            "width": null,
            "min_width": null,
            "border": null,
            "align_items": null,
            "bottom": null,
            "_model_module": "@jupyter-widgets/base",
            "top": null,
            "grid_column": null,
            "overflow_y": null,
            "overflow_x": null,
            "grid_auto_flow": null,
            "grid_area": null,
            "grid_template_columns": null,
            "flex": null,
            "_model_name": "LayoutModel",
            "justify_items": null,
            "grid_row": null,
            "max_height": null,
            "align_content": null,
            "visibility": null,
            "align_self": null,
            "height": null,
            "min_height": null,
            "padding": null,
            "grid_auto_rows": null,
            "grid_gap": null,
            "max_width": null,
            "order": null,
            "_view_module_version": "1.2.0",
            "grid_template_areas": null,
            "object_position": null,
            "object_fit": null,
            "grid_auto_columns": null,
            "margin": null,
            "display": null,
            "left": null
          }
        },
        "a78e9c39911b430faea47e3c381596f0": {
          "model_module": "@jupyter-widgets/controls",
          "model_name": "DescriptionStyleModel",
          "state": {
            "_view_name": "StyleView",
            "_model_name": "DescriptionStyleModel",
            "description_width": "",
            "_view_module": "@jupyter-widgets/base",
            "_model_module_version": "1.5.0",
            "_view_count": null,
            "_view_module_version": "1.2.0",
            "_model_module": "@jupyter-widgets/controls"
          }
        },
        "0c1814a09a6c4093b73d6a18c5d278b9": {
          "model_module": "@jupyter-widgets/base",
          "model_name": "LayoutModel",
          "state": {
            "_view_name": "LayoutView",
            "grid_template_rows": null,
            "right": null,
            "justify_content": null,
            "_view_module": "@jupyter-widgets/base",
            "overflow": null,
            "_model_module_version": "1.2.0",
            "_view_count": null,
            "flex_flow": null,
            "width": null,
            "min_width": null,
            "border": null,
            "align_items": null,
            "bottom": null,
            "_model_module": "@jupyter-widgets/base",
            "top": null,
            "grid_column": null,
            "overflow_y": null,
            "overflow_x": null,
            "grid_auto_flow": null,
            "grid_area": null,
            "grid_template_columns": null,
            "flex": null,
            "_model_name": "LayoutModel",
            "justify_items": null,
            "grid_row": null,
            "max_height": null,
            "align_content": null,
            "visibility": null,
            "align_self": null,
            "height": null,
            "min_height": null,
            "padding": null,
            "grid_auto_rows": null,
            "grid_gap": null,
            "max_width": null,
            "order": null,
            "_view_module_version": "1.2.0",
            "grid_template_areas": null,
            "object_position": null,
            "object_fit": null,
            "grid_auto_columns": null,
            "margin": null,
            "display": null,
            "left": null
          }
        }
      }
    }
  },
  "cells": [
    {
      "cell_type": "markdown",
      "metadata": {
        "id": "view-in-github",
        "colab_type": "text"
      },
      "source": [
        "<a href=\"https://colab.research.google.com/github/muhammadtarek98/Graduation-project/blob/master/notebook/triple_MRInet_last_version.ipynb\" target=\"_parent\"><img src=\"https://colab.research.google.com/assets/colab-badge.svg\" alt=\"Open In Colab\"/></a>"
      ]
    },
    {
      "cell_type": "code",
      "metadata": {
        "id": "LUCY8w-fksCM",
        "colab_type": "code",
        "colab": {
          "base_uri": "https://localhost:8080/",
          "height": 121
        },
        "outputId": "83b1ad1b-66ac-4c2b-eab1-fcc73c0e7d4c"
      },
      "source": [
        "from google.colab import drive\n",
        "drive.mount('/content/drive')"
      ],
      "execution_count": 2,
      "outputs": [
        {
          "output_type": "stream",
          "text": [
            "Go to this URL in a browser: https://accounts.google.com/o/oauth2/auth?client_id=947318989803-6bn6qk8qdgf4n4g3pfee6491hc0brc4i.apps.googleusercontent.com&redirect_uri=urn%3aietf%3awg%3aoauth%3a2.0%3aoob&response_type=code&scope=email%20https%3a%2f%2fwww.googleapis.com%2fauth%2fdocs.test%20https%3a%2f%2fwww.googleapis.com%2fauth%2fdrive%20https%3a%2f%2fwww.googleapis.com%2fauth%2fdrive.photos.readonly%20https%3a%2f%2fwww.googleapis.com%2fauth%2fpeopleapi.readonly\n",
            "\n",
            "Enter your authorization code:\n",
            "··········\n",
            "Mounted at /content/drive\n"
          ],
          "name": "stdout"
        }
      ]
    },
    {
      "cell_type": "code",
      "metadata": {
        "id": "f2Gn-LUvcVnY",
        "colab_type": "code",
        "colab": {}
      },
      "source": [
        "import pdb\n",
        "import torch\n",
        "import torch.nn as nn\n",
        "from torchvision import models\n",
        "import numpy as np\n",
        "import os\n",
        "import pickle\n",
        "import torch.nn.functional as F\n",
        "import torch.utils.data as data\n",
        "from torch.autograd import Variable\n",
        "import matplotlib.pyplot as plt\n",
        "from tqdm import tqdm\n",
        "import json\n",
        "from datetime import datetime\n",
        "from pathlib import Path\n",
        "from sklearn import metrics"
      ],
      "execution_count": 3,
      "outputs": []
    },
    {
      "cell_type": "code",
      "metadata": {
        "id": "ikRxK7f1bm8F",
        "colab_type": "code",
        "colab": {}
      },
      "source": [
        "class MRNet(nn.Module):\n",
        "    def __init__(self):\n",
        "        super().__init__()\n",
        "        self.model = models.alexnet(pretrained=True)\n",
        "        self.gap = nn.AdaptiveAvgPool2d(1)\n",
        "        self.classifier = nn.Linear(256, 1)\n",
        "\n",
        "    def forward(self, x):\n",
        "        x = torch.squeeze(x, dim=0) # only batch size 1 supported\n",
        "        x = self.model.features(x)\n",
        "        x = self.gap(x).view(x.size(0), -1)\n",
        "        x = torch.max(x, 0, keepdim=True)[0]\n",
        "        x = self.classifier(x)\n",
        "        return x\n",
        "\n",
        "class TripleMRNet(nn.Module):\n",
        "    def __init__(self, backbone=\"resnet18\", training=True):\n",
        "        super().__init__()\n",
        "        self.backbone = backbone\n",
        "        if self.backbone == \"resnet18\":\n",
        "            resnet = models.resnet18(pretrained=training)\n",
        "            modules = list(resnet.children())[:-1]\n",
        "            self.axial_net = nn.Sequential(*modules)\n",
        "            for param in self.axial_net.parameters():\n",
        "                param.requires_grad = False\n",
        "        elif self.backbone == \"alexnet\":\n",
        "            self.axial_net = models.alexnet(pretrained=training)\n",
        "\n",
        "        if self.backbone == \"resnet18\":\n",
        "            resnet = models.resnet18(pretrained=training)\n",
        "            modules = list(resnet.children())[:-1]\n",
        "            self.sagit_net = nn.Sequential(*modules)\n",
        "            for param in self.sagit_net.parameters():\n",
        "                param.requires_grad = False\n",
        "        elif self.backbone == \"alexnet\":\n",
        "            self.sagit_net = models.alexnet(pretrained=training)\n",
        "        \n",
        "        if self.backbone == \"resnet18\":\n",
        "            resnet = models.resnet18(pretrained=training)\n",
        "            modules = list(resnet.children())[:-1]\n",
        "            self.coron_net = nn.Sequential(*modules)\n",
        "            for param in self.coron_net.parameters():\n",
        "                param.requires_grad = False\n",
        "        elif self.backbone == \"alexnet\":\n",
        "            self.coron_net = models.alexnet(pretrained=training)\n",
        "\n",
        "        self.gap_axial = nn.AdaptiveAvgPool2d(1)\n",
        "        self.gap_sagit = nn.AdaptiveAvgPool2d(1)\n",
        "        self.gap_coron = nn.AdaptiveAvgPool2d(1)\n",
        "       \n",
        "        if self.backbone == \"resnet18\":\n",
        "            self.classifier = nn.Linear(3*512, 1)\n",
        "        elif self.backbone == \"alexnet\":\n",
        "            self.classifier = nn.Linear(3*256, 1)\n",
        "\n",
        "    def forward(self, vol_axial, vol_sagit, vol_coron):\n",
        "        vol_axial = torch.squeeze(vol_axial, dim=0)\n",
        "        vol_sagit = torch.squeeze(vol_sagit, dim=0)\n",
        "        vol_coron = torch.squeeze(vol_coron, dim=0)\n",
        "       \n",
        "        if self.backbone == \"resnet18\":\n",
        "            vol_axial = self.axial_net(vol_axial)\n",
        "            vol_sagit = self.sagit_net(vol_sagit)\n",
        "            vol_coron = self.coron_net(vol_coron)\n",
        "        elif self.backbone == \"alexnet\":\n",
        "            vol_axial = self.axial_net.features(vol_axial)\n",
        "            vol_sagit = self.sagit_net.features(vol_sagit)\n",
        "            vol_coron = self.coron_net.features(vol_coron)\n",
        "\n",
        "        vol_axial = self.gap_axial(vol_axial).view(vol_axial.size(0), -1)\n",
        "        x = torch.max(vol_axial, 0, keepdim=True)[0]\n",
        "        vol_sagit = self.gap_sagit(vol_sagit).view(vol_sagit.size(0), -1)\n",
        "        y = torch.max(vol_sagit, 0, keepdim=True)[0]\n",
        "        vol_coron = self.gap_coron(vol_coron).view(vol_coron.size(0), -1)\n",
        "        z = torch.max(vol_coron, 0, keepdim=True)[0]\n",
        "\n",
        "        w = torch.cat((x, y, z), 1)\n",
        "        out = self.classifier(w)\n",
        "        return out"
      ],
      "execution_count": 4,
      "outputs": []
    },
    {
      "cell_type": "code",
      "metadata": {
        "id": "9VI6cA9wDvDS",
        "colab_type": "code",
        "colab": {}
      },
      "source": [
        "class MRI_alex(nn.Module):\n",
        "  def __init__(self, training=True):\n",
        "    super().__init__()\n",
        "    self.axial_net = models.alexnet(pretrained=training)\n",
        "    self.sagit_net = models.alexnet(pretrained=training)\n",
        "    self.coron_net = models.alexnet(pretrained=training)\n",
        "\n",
        "    self.gap_axial = nn.AdaptiveAvgPool2d(1)\n",
        "    self.gap_sagit = nn.AdaptiveAvgPool2d(1)\n",
        "    self.gap_coron = nn.AdaptiveAvgPool2d(1)\n",
        "    self.classifier = nn.Linear(3*256, 1)\n",
        "\n",
        "  def forward(self,vol_axial, vol_sagit, vol_coron):\n",
        "    vol_axial = torch.squeeze(vol_axial, dim=0)\n",
        "    vol_sagit = torch.squeeze(vol_sagit, dim=0)\n",
        "    vol_coron = torch.squeeze(vol_coron, dim=0)\n",
        "\n",
        "    vol_axial = self.axial_net.features(vol_axial)\n",
        "    vol_sagit = self.sagit_net.features(vol_sagit)\n",
        "    vol_coron = self.coron_net.features(vol_coron)\n",
        "\n",
        "    vol_axial = self.gap_axial(vol_axial).view(vol_axial.size(0), -1)\n",
        "    x = torch.max(vol_axial, 0, keepdim=True)[0]\n",
        "\n",
        "    vol_sagit = self.gap_sagit(vol_sagit).view(vol_sagit.size(0), -1)\n",
        "    y = torch.max(vol_sagit, 0, keepdim=True)[0]\n",
        "\n",
        "    vol_coron = self.gap_coron(vol_coron).view(vol_coron.size(0), -1)\n",
        "    z = torch.max(vol_coron, 0, keepdim=True)[0]\n",
        "\n",
        "    w = torch.cat((x, y, z), 1)\n",
        "    out = self.classifier(w)\n",
        "    return out"
      ],
      "execution_count": 5,
      "outputs": []
    },
    {
      "cell_type": "code",
      "metadata": {
        "id": "o-ofw1EoMmYp",
        "colab_type": "code",
        "colab": {}
      },
      "source": [
        "def preprocess(series):\n",
        "        pad = int((series.shape[2] - INPUT_DIM)/2)\n",
        "        series = series[:,pad:-pad,pad:-pad]\n",
        "        series = (series-np.min(series))/(np.max(series)-np.min(series))*MAX_PIXEL_VAL\n",
        "        series = (series - MEAN) / STDDEV\n",
        "        series = np.stack((series,)*3, axis=1)\n",
        "        series_float = torch.FloatTensor(series)\n",
        "        return series_float"
      ],
      "execution_count": 6,
      "outputs": []
    },
    {
      "cell_type": "code",
      "metadata": {
        "id": "4cVk6Ep0b2nw",
        "colab_type": "code",
        "colab": {}
      },
      "source": [
        "INPUT_DIM = 224\n",
        "MAX_PIXEL_VAL = 255\n",
        "MEAN = 58.09\n",
        "STDDEV = 49.73\n",
        "class Dataset(data.Dataset):\n",
        "    def __init__(self, datadir, tear_type, use_gpu):\n",
        "        super().__init__()\n",
        "        self.use_gpu = use_gpu\n",
        "        label_dict = {}\n",
        "        self.paths = []\n",
        "        abnormal_label_dict = {}\n",
        "        if datadir[-1]==\"/\":\n",
        "            datadir = datadir[:-1]\n",
        "        self.datadir = datadir\n",
        "        for i, line in enumerate(open(datadir+'-'+tear_type+'.csv').readlines()):\n",
        "            line = line.strip().split(',')\n",
        "            filename = line[0]\n",
        "            label = line[1]\n",
        "            label_dict[filename] = int(label)\n",
        "        \n",
        "\n",
        "        for i, line in enumerate(open(datadir+'-'+\"abnormal\"+'.csv').readlines()):\n",
        "            line = line.strip().split(',')\n",
        "            filename = line[0]\n",
        "            label = line[1]\n",
        "            abnormal_label_dict[filename] = int(label)\n",
        "\n",
        "        for filename in os.listdir(os.path.join(datadir, \"axial\")):\n",
        "            if filename.endswith(\".npy\"):\n",
        "                self.paths.append(filename)\n",
        "        \n",
        "        self.labels = [label_dict[path.split(\".\")[0]] for path in self.paths]\n",
        "        self.abnormal_labels = [abnormal_label_dict[path.split(\".\")[0]] for path in self.paths]\n",
        "\n",
        "        if tear_type != \"abnormal\":\n",
        "            temp_labels = [self.labels[i] for i in range(len(self.labels)) if self.abnormal_labels[i]==1]\n",
        "            neg_weight = np.mean(temp_labels)\n",
        "        else:\n",
        "            neg_weight = np.mean(self.labels)\n",
        "        \n",
        "        self.weights = [neg_weight, 1 - neg_weight]\n",
        "\n",
        "    def weighted_loss(self, prediction, target):\n",
        "        weights_npy = np.array([self.weights[int(t[0])] for t in target.data])\n",
        "        weights_tensor = torch.FloatTensor(weights_npy)\n",
        "        if self.use_gpu:\n",
        "            weights_tensor = weights_tensor.cuda()\n",
        "        loss = F.binary_cross_entropy_with_logits(prediction, target, weight=Variable(weights_tensor))\n",
        "        return loss\n",
        "\n",
        "    def __getitem__(self, index):\n",
        "        filename = self.paths[index]\n",
        "        vol_axial = np.load(os.path.join(self.datadir, \"axial\", filename))\n",
        "        vol_sagit = np.load(os.path.join(self.datadir, \"sagittal\", filename))\n",
        "        vol_coron = np.load(os.path.join(self.datadir, \"coronal\", filename))\n",
        "\n",
        "        # axial\n",
        "        vol_axial_tensor = preprocess(vol_axial)\n",
        "        \n",
        "        # sagittal\n",
        "        vol_sagit_tensor = preprocess(vol_sagit)\n",
        "\n",
        "        # coronal\n",
        "        vol_coron_tensor = preprocess(vol_coron)\n",
        "\n",
        "        label_tensor = torch.FloatTensor([self.labels[index]])\n",
        "\n",
        "        return vol_axial_tensor, vol_sagit_tensor, vol_coron_tensor, label_tensor, self.abnormal_labels[index]\n",
        "\n",
        "    def __len__(self):\n",
        "        return len(self.paths)\n",
        "\n",
        "def load_data(task, use_gpu):\n",
        "    train_dir = \"/content/drive/My Drive/MRNet-v1.0/train\"\n",
        "    valid_dir = \"/content/drive/My Drive/MRNet-v1.0/valid\"\n",
        "    \n",
        "    train_dataset = Dataset(train_dir, task, use_gpu)\n",
        "    valid_dataset = Dataset(valid_dir, task, use_gpu)\n",
        "\n",
        "    train_loader = data.DataLoader(train_dataset, batch_size=1, num_workers=11, shuffle=True)\n",
        "    valid_loader = data.DataLoader(valid_dataset, batch_size=1, num_workers=11, shuffle=False)\n",
        "\n",
        "    return train_loader, valid_loader"
      ],
      "execution_count": 7,
      "outputs": []
    },
    {
      "cell_type": "code",
      "metadata": {
        "id": "p2F9XbQrcQYr",
        "colab_type": "code",
        "colab": {}
      },
      "source": [
        "def run_model(model, loader, train=False, optimizer=None,abnormal_model_path=None):\n",
        "    preds = []\n",
        "    labels = []\n",
        "\n",
        "    if train:\n",
        "        model.train()\n",
        "    else:\n",
        "        if abnormal_model_path:\n",
        "            abnormal_model = MRI_alex(train)\n",
        "            state_dict = torch.load(abnormal_model_path)\n",
        "            abnormal_model.load_state_dict(state_dict)\n",
        "            abnormal_model.cuda()\n",
        "            abnormal_model.eval()\n",
        "        model.eval()\n",
        "\n",
        "    total_loss = 0.0\n",
        "    num_batches = 0\n",
        "\n",
        "    for batch in tqdm(loader):\n",
        "        vol_axial, vol_sagit, vol_coron, label, abnormal = batch\n",
        "        if train:\n",
        "            if abnormal_model_path and not abnormal:\n",
        "                continue\n",
        "            optimizer.zero_grad()\n",
        "        if loader.dataset.use_gpu:\n",
        "            vol_axial, vol_sagit, vol_coron = vol_axial.cuda(), vol_sagit.cuda(), vol_coron.cuda()\n",
        "            label = label.cuda()\n",
        "        vol_axial, vol_sagit, vol_coron = Variable(vol_axial), Variable(vol_sagit), Variable(vol_coron)\n",
        "        label = Variable(label)\n",
        "\n",
        "        logit = model.forward(vol_axial, vol_sagit, vol_coron)\n",
        "\n",
        "        loss = loader.dataset.weighted_loss(logit, label)\n",
        "        total_loss += loss.item()\n",
        "\n",
        "        pred = torch.sigmoid(logit)\n",
        "\n",
        "        pred_npy = pred.data.cpu().numpy()[0][0]\n",
        "\n",
        "        if abnormal_model_path and not train:\n",
        "            abnormal_logit = abnormal_model.forward(vol_axial,vol_sagit,vol_coron)\n",
        "            abnormal_pred = torch.sigmoid(abnormal_logit)\n",
        "            abnormal_pred_npy = abnormal_pred.data.cpu().numpy()[0][0]\n",
        "            pred_npy = pred_npy * abnormal_pred_npy\n",
        "\n",
        "        label_npy = label.data.cpu().numpy()[0][0]\n",
        "\n",
        "        preds.append(pred_npy)\n",
        "        labels.append(label_npy)\n",
        "\n",
        "        if train:\n",
        "            loss.backward()\n",
        "            optimizer.step()\n",
        "        num_batches += 1\n",
        "\n",
        "    avg_loss = total_loss / num_batches\n",
        "    \n",
        "    fpr, tpr, threshold = metrics.roc_curve(labels, preds)\n",
        "    auc = metrics.auc(fpr, tpr)\n",
        "\n",
        "    if abnormal_model_path and not train:\n",
        "        del abnormal_model\n",
        "\n",
        "    return avg_loss, auc, preds, labels\n",
        "\n",
        "def evaluate(split, model_path, diagnosis, use_gpu):\n",
        "    train_loader, valid_loader, test_loader = load_data(diagnosis, use_gpu)\n",
        "\n",
        "    model = MRI_alex()\n",
        "    state_dict = torch.load(model_path, map_location=(None if use_gpu else 'cpu'))\n",
        "    model.load_state_dict(state_dict)\n",
        "\n",
        "    if use_gpu:\n",
        "        model = model.cuda()\n",
        "\n",
        "    if split == 'train':\n",
        "        loader = train_loader\n",
        "    elif split == 'valid':\n",
        "        loader = valid_loader\n",
        "    elif split == 'test':\n",
        "        loader = test_loader\n",
        "    else:\n",
        "        raise ValueError(\"split must be 'train', 'valid', or 'test'\")\n",
        "\n",
        "    loss, auc, preds, labels = run_model(model, loader)\n",
        "\n",
        "    print(f'{split} loss: {loss:0.4f}')\n",
        "    print(f'{split} AUC: {auc:0.4f}')\n",
        "\n",
        "    return preds, labels"
      ],
      "execution_count": 8,
      "outputs": []
    },
    {
      "cell_type": "code",
      "metadata": {
        "id": "BdGtOCLJb87S",
        "colab_type": "code",
        "colab": {}
      },
      "source": [
        "def train(rundir, task, epochs, learning_rate, use_gpu,model,abnormal_model_path=None):\n",
        "    train_loader, valid_loader = load_data(task, use_gpu)\n",
        "    model = model\n",
        "    train_loss_list=[]\n",
        "    val_loss_list=[]\n",
        "    train_auc_list=[]\n",
        "    val_auc_list=[]\n",
        "    '''for dirpath, dirnames, files in os.walk(rundir):\n",
        "        if not files:\n",
        "            break\n",
        "        max_epoch = 0\n",
        "        model_path = None\n",
        "        for fname in files:\n",
        "            if fname.endswith(\".json\"):\n",
        "                continue\n",
        "            ep = int(fname[27:])\n",
        "            if ep >= max_epoch:\n",
        "                max_epoch = ep\n",
        "                model_path = os.path.join(dirpath, fname)\n",
        "        \n",
        "        if model_path:\n",
        "            state_dict = torch.load(model_path, map_location=(None if use_gpu else 'cpu'))\n",
        "            model.load_state_dict(state_dict)\n",
        "'''\n",
        "    if use_gpu:\n",
        "        model = model.cuda()\n",
        "    optimizer = torch.optim.Adam(model.parameters(), learning_rate, weight_decay=0.01)\n",
        "    scheduler = torch.optim.lr_scheduler.ReduceLROnPlateau(optimizer, patience=5, factor=0.3, threshold=1e-4)\n",
        "    best_val_loss = float('inf')\n",
        "    start_time = datetime.now()\n",
        "    for epoch in range(epochs):\n",
        "        change = datetime.now() - start_time\n",
        "        print('starting epoch {}. time passed: {}'.format(epoch+1, str(change)))\n",
        "        train_loss, train_auc, _, _ = run_model(model, train_loader, train=True, optimizer=optimizer,abnormal_model_path=abnormal_model_path)\n",
        "        train_loss_list.append(train_loss)\n",
        "        train_auc_list.append(train_auc)\n",
        "        print(f'train loss: {train_loss:0.4f}')\n",
        "        print(f'train AUC: {train_auc:0.4f}')\n",
        "        val_loss, val_auc, _, _ = run_model(model, valid_loader,abnormal_model_path=abnormal_model_path)\n",
        "        val_loss_list.append(val_loss)\n",
        "        val_auc_list.append(val_auc)\n",
        "        print(f'valid loss: {val_loss:0.4f}')\n",
        "        print(f'valid AUC: {val_auc:0.4f}')\n",
        "        scheduler.step(val_loss)\n",
        "    return train_loss_list,train_auc_list,val_loss_list,val_auc_list"
      ],
      "execution_count": 9,
      "outputs": []
    },
    {
      "cell_type": "code",
      "metadata": {
        "id": "hk-ikFcrcyXc",
        "colab_type": "code",
        "colab": {
          "base_uri": "https://localhost:8080/",
          "height": 82,
          "referenced_widgets": [
            "5080541ee0af40b0a92b475bf2a34936",
            "5ee4d212917e433d872a72adef9c5906",
            "4fa23fed5fe04542b6025ee77ae5b167",
            "27ca015452c94379a8a78fe9177f7707",
            "c30883e6f0004beb94e9f3206fd0c147",
            "47efffecf4444b7e8035468e05f63ca8",
            "a78e9c39911b430faea47e3c381596f0",
            "0c1814a09a6c4093b73d6a18c5d278b9"
          ]
        },
        "outputId": "763ec8fa-f19d-41a6-c7f6-730f28d26b79"
      },
      "source": [
        "model_acl=MRI_alex(training=True)\n",
        "model_men=MRI_alex(training=True)\n",
        "model_ab=MRI_alex(training=True)"
      ],
      "execution_count": 10,
      "outputs": [
        {
          "output_type": "stream",
          "text": [
            "Downloading: \"https://download.pytorch.org/models/alexnet-owt-4df8aa71.pth\" to /root/.cache/torch/hub/checkpoints/alexnet-owt-4df8aa71.pth\n"
          ],
          "name": "stderr"
        },
        {
          "output_type": "display_data",
          "data": {
            "application/vnd.jupyter.widget-view+json": {
              "model_id": "5080541ee0af40b0a92b475bf2a34936",
              "version_minor": 0,
              "version_major": 2
            },
            "text/plain": [
              "HBox(children=(FloatProgress(value=0.0, max=244418560.0), HTML(value='')))"
            ]
          },
          "metadata": {
            "tags": []
          }
        },
        {
          "output_type": "stream",
          "text": [
            "\n"
          ],
          "name": "stdout"
        }
      ]
    },
    {
      "cell_type": "code",
      "metadata": {
        "id": "7hgJjeZhLTd4",
        "colab_type": "code",
        "colab": {
          "base_uri": "https://localhost:8080/",
          "height": 1000
        },
        "outputId": "985b360a-7744-4c81-e247-96a94d6f861f"
      },
      "source": [
        "num_epoch=20\n",
        "train_loss,train_auc,val_loss,val_auc=train('/content/drive/My Drive/MRNet-v1.0/temp',task='abnormal',epochs=num_epoch,learning_rate=1e-5,use_gpu='cuda',model=model_ab)"
      ],
      "execution_count": 47,
      "outputs": [
        {
          "output_type": "stream",
          "text": [
            "\r  0%|          | 0/1130 [00:00<?, ?it/s]"
          ],
          "name": "stderr"
        },
        {
          "output_type": "stream",
          "text": [
            "starting epoch 1. time passed: 0:00:00.000014\n"
          ],
          "name": "stdout"
        },
        {
          "output_type": "stream",
          "text": [
            "100%|██████████| 1130/1130 [07:55<00:00,  2.38it/s]\n",
            "  0%|          | 0/120 [00:00<?, ?it/s]"
          ],
          "name": "stderr"
        },
        {
          "output_type": "stream",
          "text": [
            "train loss: 0.1759\n",
            "train AUC: 0.7820\n"
          ],
          "name": "stdout"
        },
        {
          "output_type": "stream",
          "text": [
            "100%|██████████| 120/120 [00:26<00:00,  4.48it/s]\n",
            "  0%|          | 0/1130 [00:00<?, ?it/s]"
          ],
          "name": "stderr"
        },
        {
          "output_type": "stream",
          "text": [
            "valid loss: 0.1673\n",
            "valid AUC: 0.8947\n",
            "starting epoch 2. time passed: 0:08:21.883323\n"
          ],
          "name": "stdout"
        },
        {
          "output_type": "stream",
          "text": [
            "100%|██████████| 1130/1130 [03:58<00:00,  4.74it/s]\n",
            "  0%|          | 0/120 [00:00<?, ?it/s]"
          ],
          "name": "stderr"
        },
        {
          "output_type": "stream",
          "text": [
            "train loss: 0.1316\n",
            "train AUC: 0.8910\n"
          ],
          "name": "stdout"
        },
        {
          "output_type": "stream",
          "text": [
            "100%|██████████| 120/120 [00:26<00:00,  4.54it/s]\n",
            "  0%|          | 0/1130 [00:00<?, ?it/s]"
          ],
          "name": "stderr"
        },
        {
          "output_type": "stream",
          "text": [
            "valid loss: 0.1359\n",
            "valid AUC: 0.9419\n",
            "starting epoch 3. time passed: 0:12:46.573747\n"
          ],
          "name": "stdout"
        },
        {
          "output_type": "stream",
          "text": [
            "100%|██████████| 1130/1130 [03:55<00:00,  4.79it/s]\n",
            "  0%|          | 0/120 [00:00<?, ?it/s]"
          ],
          "name": "stderr"
        },
        {
          "output_type": "stream",
          "text": [
            "train loss: 0.1097\n",
            "train AUC: 0.9250\n"
          ],
          "name": "stdout"
        },
        {
          "output_type": "stream",
          "text": [
            "100%|██████████| 120/120 [00:28<00:00,  4.17it/s]\n",
            "  0%|          | 0/1130 [00:00<?, ?it/s]"
          ],
          "name": "stderr"
        },
        {
          "output_type": "stream",
          "text": [
            "valid loss: 0.1372\n",
            "valid AUC: 0.9364\n",
            "starting epoch 4. time passed: 0:17:11.337285\n"
          ],
          "name": "stdout"
        },
        {
          "output_type": "stream",
          "text": [
            "100%|██████████| 1130/1130 [05:14<00:00,  3.59it/s]\n",
            "  0%|          | 0/120 [00:00<?, ?it/s]"
          ],
          "name": "stderr"
        },
        {
          "output_type": "stream",
          "text": [
            "train loss: 0.1005\n",
            "train AUC: 0.9395\n"
          ],
          "name": "stdout"
        },
        {
          "output_type": "stream",
          "text": [
            "100%|██████████| 120/120 [00:26<00:00,  4.48it/s]\n",
            "  0%|          | 0/1130 [00:00<?, ?it/s]"
          ],
          "name": "stderr"
        },
        {
          "output_type": "stream",
          "text": [
            "valid loss: 0.2615\n",
            "valid AUC: 0.9436\n",
            "starting epoch 5. time passed: 0:22:52.727333\n"
          ],
          "name": "stdout"
        },
        {
          "output_type": "stream",
          "text": [
            "100%|██████████| 1130/1130 [04:02<00:00,  4.66it/s]\n",
            "  0%|          | 0/120 [00:00<?, ?it/s]"
          ],
          "name": "stderr"
        },
        {
          "output_type": "stream",
          "text": [
            "train loss: 0.0928\n",
            "train AUC: 0.9465\n"
          ],
          "name": "stdout"
        },
        {
          "output_type": "stream",
          "text": [
            "100%|██████████| 120/120 [01:23<00:00,  1.43it/s]\n",
            "  0%|          | 0/1130 [00:00<?, ?it/s]"
          ],
          "name": "stderr"
        },
        {
          "output_type": "stream",
          "text": [
            "valid loss: 0.1054\n",
            "valid AUC: 0.9436\n",
            "starting epoch 6. time passed: 0:28:19.061674\n"
          ],
          "name": "stdout"
        },
        {
          "output_type": "stream",
          "text": [
            "100%|██████████| 1130/1130 [04:27<00:00,  4.22it/s]\n",
            "  0%|          | 0/120 [00:00<?, ?it/s]"
          ],
          "name": "stderr"
        },
        {
          "output_type": "stream",
          "text": [
            "train loss: 0.0863\n",
            "train AUC: 0.9552\n"
          ],
          "name": "stdout"
        },
        {
          "output_type": "stream",
          "text": [
            "100%|██████████| 120/120 [00:26<00:00,  4.50it/s]\n",
            "  0%|          | 0/1130 [00:00<?, ?it/s]"
          ],
          "name": "stderr"
        },
        {
          "output_type": "stream",
          "text": [
            "valid loss: 0.1003\n",
            "valid AUC: 0.9516\n",
            "starting epoch 7. time passed: 0:33:13.536284\n"
          ],
          "name": "stdout"
        },
        {
          "output_type": "stream",
          "text": [
            "100%|██████████| 1130/1130 [05:08<00:00,  3.66it/s]\n",
            "  0%|          | 0/120 [00:00<?, ?it/s]"
          ],
          "name": "stderr"
        },
        {
          "output_type": "stream",
          "text": [
            "train loss: 0.0918\n",
            "train AUC: 0.9477\n"
          ],
          "name": "stdout"
        },
        {
          "output_type": "stream",
          "text": [
            "100%|██████████| 120/120 [00:33<00:00,  3.55it/s]\n",
            "  0%|          | 0/1130 [00:00<?, ?it/s]"
          ],
          "name": "stderr"
        },
        {
          "output_type": "stream",
          "text": [
            "valid loss: 0.0980\n",
            "valid AUC: 0.9503\n",
            "starting epoch 8. time passed: 0:38:56.248676\n"
          ],
          "name": "stdout"
        },
        {
          "output_type": "stream",
          "text": [
            "100%|██████████| 1130/1130 [05:12<00:00,  3.62it/s]\n",
            "  0%|          | 0/120 [00:00<?, ?it/s]"
          ],
          "name": "stderr"
        },
        {
          "output_type": "stream",
          "text": [
            "train loss: 0.0888\n",
            "train AUC: 0.9529\n"
          ],
          "name": "stdout"
        },
        {
          "output_type": "stream",
          "text": [
            "100%|██████████| 120/120 [00:28<00:00,  4.28it/s]\n",
            "  0%|          | 0/1130 [00:00<?, ?it/s]"
          ],
          "name": "stderr"
        },
        {
          "output_type": "stream",
          "text": [
            "valid loss: 0.1087\n",
            "valid AUC: 0.9520\n",
            "starting epoch 9. time passed: 0:44:36.687770\n"
          ],
          "name": "stdout"
        },
        {
          "output_type": "stream",
          "text": [
            "100%|██████████| 1130/1130 [06:55<00:00,  2.72it/s]\n",
            "  0%|          | 0/120 [00:00<?, ?it/s]"
          ],
          "name": "stderr"
        },
        {
          "output_type": "stream",
          "text": [
            "train loss: 0.0853\n",
            "train AUC: 0.9573\n"
          ],
          "name": "stdout"
        },
        {
          "output_type": "stream",
          "text": [
            "100%|██████████| 120/120 [01:25<00:00,  1.40it/s]\n",
            "  0%|          | 0/1130 [00:00<?, ?it/s]"
          ],
          "name": "stderr"
        },
        {
          "output_type": "stream",
          "text": [
            "valid loss: 0.1139\n",
            "valid AUC: 0.9533\n",
            "starting epoch 10. time passed: 0:52:57.783411\n"
          ],
          "name": "stdout"
        },
        {
          "output_type": "stream",
          "text": [
            "100%|██████████| 1130/1130 [05:12<00:00,  3.62it/s]\n",
            "  0%|          | 0/120 [00:00<?, ?it/s]"
          ],
          "name": "stderr"
        },
        {
          "output_type": "stream",
          "text": [
            "train loss: 0.0857\n",
            "train AUC: 0.9573\n"
          ],
          "name": "stdout"
        },
        {
          "output_type": "stream",
          "text": [
            "100%|██████████| 120/120 [01:28<00:00,  1.36it/s]\n",
            "  0%|          | 0/1130 [00:00<?, ?it/s]"
          ],
          "name": "stderr"
        },
        {
          "output_type": "stream",
          "text": [
            "valid loss: 0.1027\n",
            "valid AUC: 0.9457\n",
            "starting epoch 11. time passed: 0:59:38.690902\n"
          ],
          "name": "stdout"
        },
        {
          "output_type": "stream",
          "text": [
            "100%|██████████| 1130/1130 [04:03<00:00,  4.64it/s]\n",
            "  0%|          | 0/120 [00:00<?, ?it/s]"
          ],
          "name": "stderr"
        },
        {
          "output_type": "stream",
          "text": [
            "train loss: 0.0877\n",
            "train AUC: 0.9561\n"
          ],
          "name": "stdout"
        },
        {
          "output_type": "stream",
          "text": [
            "100%|██████████| 120/120 [00:26<00:00,  4.48it/s]\n",
            "  0%|          | 0/1130 [00:00<?, ?it/s]"
          ],
          "name": "stderr"
        },
        {
          "output_type": "stream",
          "text": [
            "valid loss: 0.1022\n",
            "valid AUC: 0.9512\n",
            "starting epoch 12. time passed: 1:04:09.125320\n"
          ],
          "name": "stdout"
        },
        {
          "output_type": "stream",
          "text": [
            "100%|██████████| 1130/1130 [04:39<00:00,  4.04it/s]\n",
            "  0%|          | 0/120 [00:00<?, ?it/s]"
          ],
          "name": "stderr"
        },
        {
          "output_type": "stream",
          "text": [
            "train loss: 0.0876\n",
            "train AUC: 0.9533\n"
          ],
          "name": "stdout"
        },
        {
          "output_type": "stream",
          "text": [
            "100%|██████████| 120/120 [00:27<00:00,  4.36it/s]\n",
            "  0%|          | 0/1130 [00:00<?, ?it/s]"
          ],
          "name": "stderr"
        },
        {
          "output_type": "stream",
          "text": [
            "valid loss: 0.1194\n",
            "valid AUC: 0.9507\n",
            "starting epoch 13. time passed: 1:09:16.592457\n"
          ],
          "name": "stdout"
        },
        {
          "output_type": "stream",
          "text": [
            "100%|██████████| 1130/1130 [05:35<00:00,  3.37it/s]\n",
            "  0%|          | 0/120 [00:00<?, ?it/s]"
          ],
          "name": "stderr"
        },
        {
          "output_type": "stream",
          "text": [
            "train loss: 0.0876\n",
            "train AUC: 0.9543\n"
          ],
          "name": "stdout"
        },
        {
          "output_type": "stream",
          "text": [
            "100%|██████████| 120/120 [01:27<00:00,  1.36it/s]\n",
            "  0%|          | 0/1130 [00:00<?, ?it/s]"
          ],
          "name": "stderr"
        },
        {
          "output_type": "stream",
          "text": [
            "valid loss: 0.1156\n",
            "valid AUC: 0.9402\n",
            "starting epoch 14. time passed: 1:16:19.703370\n"
          ],
          "name": "stdout"
        },
        {
          "output_type": "stream",
          "text": [
            "100%|██████████| 1130/1130 [11:48<00:00,  1.60it/s]\n",
            "  0%|          | 0/120 [00:00<?, ?it/s]"
          ],
          "name": "stderr"
        },
        {
          "output_type": "stream",
          "text": [
            "train loss: 0.0757\n",
            "train AUC: 0.9723\n"
          ],
          "name": "stdout"
        },
        {
          "output_type": "stream",
          "text": [
            "100%|██████████| 120/120 [02:23<00:00,  1.20s/it]\n",
            "  0%|          | 0/1130 [00:00<?, ?it/s]"
          ],
          "name": "stderr"
        },
        {
          "output_type": "stream",
          "text": [
            "valid loss: 0.1080\n",
            "valid AUC: 0.9486\n",
            "starting epoch 15. time passed: 1:30:31.915759\n"
          ],
          "name": "stdout"
        },
        {
          "output_type": "stream",
          "text": [
            "100%|██████████| 1130/1130 [07:32<00:00,  2.50it/s]\n",
            "  0%|          | 0/120 [00:00<?, ?it/s]"
          ],
          "name": "stderr"
        },
        {
          "output_type": "stream",
          "text": [
            "train loss: 0.0753\n",
            "train AUC: 0.9706\n"
          ],
          "name": "stdout"
        },
        {
          "output_type": "stream",
          "text": [
            "100%|██████████| 120/120 [01:27<00:00,  1.37it/s]\n",
            "  0%|          | 0/1130 [00:00<?, ?it/s]"
          ],
          "name": "stderr"
        },
        {
          "output_type": "stream",
          "text": [
            "valid loss: 0.1492\n",
            "valid AUC: 0.9478\n",
            "starting epoch 16. time passed: 1:39:32.075996\n"
          ],
          "name": "stdout"
        },
        {
          "output_type": "stream",
          "text": [
            "100%|██████████| 1130/1130 [08:19<00:00,  2.26it/s]\n",
            "  0%|          | 0/120 [00:00<?, ?it/s]"
          ],
          "name": "stderr"
        },
        {
          "output_type": "stream",
          "text": [
            "train loss: 0.0744\n",
            "train AUC: 0.9704\n"
          ],
          "name": "stdout"
        },
        {
          "output_type": "stream",
          "text": [
            "100%|██████████| 120/120 [00:26<00:00,  4.48it/s]\n",
            "  0%|          | 0/1130 [00:00<?, ?it/s]"
          ],
          "name": "stderr"
        },
        {
          "output_type": "stream",
          "text": [
            "valid loss: 0.1157\n",
            "valid AUC: 0.9482\n",
            "starting epoch 17. time passed: 1:48:18.734735\n"
          ],
          "name": "stdout"
        },
        {
          "output_type": "stream",
          "text": [
            "100%|██████████| 1130/1130 [04:01<00:00,  4.69it/s]\n",
            "  0%|          | 0/120 [00:00<?, ?it/s]"
          ],
          "name": "stderr"
        },
        {
          "output_type": "stream",
          "text": [
            "train loss: 0.0740\n",
            "train AUC: 0.9708\n"
          ],
          "name": "stdout"
        },
        {
          "output_type": "stream",
          "text": [
            "100%|██████████| 120/120 [00:27<00:00,  4.29it/s]\n",
            "  0%|          | 0/1130 [00:00<?, ?it/s]"
          ],
          "name": "stderr"
        },
        {
          "output_type": "stream",
          "text": [
            "valid loss: 0.2482\n",
            "valid AUC: 0.9448\n",
            "starting epoch 18. time passed: 1:52:47.882889\n"
          ],
          "name": "stdout"
        },
        {
          "output_type": "stream",
          "text": [
            "100%|██████████| 1130/1130 [04:01<00:00,  4.68it/s]\n",
            "  0%|          | 0/120 [00:00<?, ?it/s]"
          ],
          "name": "stderr"
        },
        {
          "output_type": "stream",
          "text": [
            "train loss: 0.0733\n",
            "train AUC: 0.9718\n"
          ],
          "name": "stdout"
        },
        {
          "output_type": "stream",
          "text": [
            "100%|██████████| 120/120 [00:28<00:00,  4.23it/s]\n",
            "  0%|          | 0/1130 [00:00<?, ?it/s]"
          ],
          "name": "stderr"
        },
        {
          "output_type": "stream",
          "text": [
            "valid loss: 0.1208\n",
            "valid AUC: 0.9486\n",
            "starting epoch 19. time passed: 1:57:17.742002\n"
          ],
          "name": "stdout"
        },
        {
          "output_type": "stream",
          "text": [
            "100%|██████████| 1130/1130 [04:31<00:00,  4.16it/s]\n",
            "  0%|          | 0/120 [00:00<?, ?it/s]"
          ],
          "name": "stderr"
        },
        {
          "output_type": "stream",
          "text": [
            "train loss: 0.0739\n",
            "train AUC: 0.9725\n"
          ],
          "name": "stdout"
        },
        {
          "output_type": "stream",
          "text": [
            "100%|██████████| 120/120 [02:22<00:00,  1.18s/it]\n",
            "  0%|          | 0/1130 [00:00<?, ?it/s]"
          ],
          "name": "stderr"
        },
        {
          "output_type": "stream",
          "text": [
            "valid loss: 0.1346\n",
            "valid AUC: 0.9461\n",
            "starting epoch 20. time passed: 2:04:11.717334\n"
          ],
          "name": "stdout"
        },
        {
          "output_type": "stream",
          "text": [
            "100%|██████████| 1130/1130 [08:10<00:00,  2.30it/s]\n",
            "  0%|          | 0/120 [00:00<?, ?it/s]"
          ],
          "name": "stderr"
        },
        {
          "output_type": "stream",
          "text": [
            "train loss: 0.0686\n",
            "train AUC: 0.9772\n"
          ],
          "name": "stdout"
        },
        {
          "output_type": "stream",
          "text": [
            "100%|██████████| 120/120 [00:28<00:00,  4.18it/s]"
          ],
          "name": "stderr"
        },
        {
          "output_type": "stream",
          "text": [
            "valid loss: 0.1229\n",
            "valid AUC: 0.9478\n"
          ],
          "name": "stdout"
        },
        {
          "output_type": "stream",
          "text": [
            "\n"
          ],
          "name": "stderr"
        }
      ]
    },
    {
      "cell_type": "code",
      "metadata": {
        "id": "oIAfJkIRCyKR",
        "colab_type": "code",
        "colab": {}
      },
      "source": [
        "torch.save(model_ab.state_dict(), '/content/drive/My Drive/MRNet-v1.0/temp/abnormal.pt')"
      ],
      "execution_count": 55,
      "outputs": []
    },
    {
      "cell_type": "code",
      "metadata": {
        "id": "x6HZ677rMd9p",
        "colab_type": "code",
        "colab": {}
      },
      "source": [
        "model_ab"
      ],
      "execution_count": null,
      "outputs": []
    },
    {
      "cell_type": "code",
      "metadata": {
        "id": "beBUdLRWnXVS",
        "colab_type": "code",
        "colab": {}
      },
      "source": [
        "def plotting_graph(x_axis,y_axis,x_title,y_title,graph_title):\n",
        "    x_axis=np.array([i+1 for i in range(x_axis)])\n",
        "    y_axis=np.array(y_axis)\n",
        "    plt.plot(x_axis, y_axis, 'r-^')\n",
        "    plt.xlabel(x_title)\n",
        "    plt.ylabel(y_title)\n",
        "    plt.title(graph_title)\n",
        "    plt.grid()\n",
        "    plt.show()\n",
        "    plt.savefig(fname=\"/content/drive/My Drive/MRNet-v1.0/temp/{}.jpg\".format(graph_title))"
      ],
      "execution_count": 11,
      "outputs": []
    },
    {
      "cell_type": "code",
      "metadata": {
        "id": "Bo3auCnJod3p",
        "colab_type": "code",
        "colab": {
          "base_uri": "https://localhost:8080/",
          "height": 312
        },
        "outputId": "d879fbed-961a-40e7-fdd2-d8d11cc648d7"
      },
      "source": [
        "plotting_graph(num_epoch,train_loss,\"epochs\",\"train loss\",\"abnormal training loss\")"
      ],
      "execution_count": 51,
      "outputs": [
        {
          "output_type": "display_data",
          "data": {
            "image/png": "[encoded data removed]",
            "text/plain": [
              "<Figure size 432x288 with 1 Axes>"
            ]
          },
          "metadata": {
            "tags": [],
            "needs_background": "light"
          }
        },
        {
          "output_type": "display_data",
          "data": {
            "text/plain": [
              "<Figure size 432x288 with 0 Axes>"
            ]
          },
          "metadata": {
            "tags": []
          }
        }
      ]
    },
    {
      "cell_type": "code",
      "metadata": {
        "id": "mQ48o5ctUs3O",
        "colab_type": "code",
        "colab": {
          "base_uri": "https://localhost:8080/",
          "height": 312
        },
        "outputId": "5e2ca433-14d5-4829-c9c8-974fdf634dee"
      },
      "source": [
        "plotting_graph(num_epoch,val_loss,\"epochs\",\"valid loss\",\"abnormal validation loss\")"
      ],
      "execution_count": 52,
      "outputs": [
        {
          "output_type": "display_data",
          "data": {
            "image/png": "[encoded data removed]",
            "text/plain": [
              "<Figure size 432x288 with 1 Axes>"
            ]
          },
          "metadata": {
            "tags": [],
            "needs_background": "light"
          }
        },
        {
          "output_type": "display_data",
          "data": {
            "text/plain": [
              "<Figure size 432x288 with 0 Axes>"
            ]
          },
          "metadata": {
            "tags": []
          }
        }
      ]
    },
    {
      "cell_type": "code",
      "metadata": {
        "id": "_GAfO_D7Uw-O",
        "colab_type": "code",
        "colab": {
          "base_uri": "https://localhost:8080/",
          "height": 312
        },
        "outputId": "c77efbb5-5d74-4ba2-e050-5e03734e804b"
      },
      "source": [
        "plotting_graph(num_epoch,train_auc,\"epochs\",\"train accuracy\",\"abnormal training accuracy\")"
      ],
      "execution_count": 53,
      "outputs": [
        {
          "output_type": "display_data",
          "data": {
            "image/png": "[encoded data removed]",
            "text/plain": [
              "<Figure size 432x288 with 1 Axes>"
            ]
          },
          "metadata": {
            "tags": [],
            "needs_background": "light"
          }
        },
        {
          "output_type": "display_data",
          "data": {
            "text/plain": [
              "<Figure size 432x288 with 0 Axes>"
            ]
          },
          "metadata": {
            "tags": []
          }
        }
      ]
    },
    {
      "cell_type": "code",
      "metadata": {
        "id": "b0kreoPFUyiS",
        "colab_type": "code",
        "colab": {
          "base_uri": "https://localhost:8080/",
          "height": 312
        },
        "outputId": "02ff386e-acdd-41b7-f25d-482c9e2b0930"
      },
      "source": [
        "plotting_graph(num_epoch,val_auc,\"epochs\",\"valid accuracy\",\"abnormal validation accuracy\")"
      ],
      "execution_count": 54,
      "outputs": [
        {
          "output_type": "display_data",
          "data": {
            "image/png": "[encoded data removed]",
            "text/plain": [
              "<Figure size 432x288 with 1 Axes>"
            ]
          },
          "metadata": {
            "tags": [],
            "needs_background": "light"
          }
        },
        {
          "output_type": "display_data",
          "data": {
            "text/plain": [
              "<Figure size 432x288 with 0 Axes>"
            ]
          },
          "metadata": {
            "tags": []
          }
        }
      ]
    },
    {
      "cell_type": "code",
      "metadata": {
        "id": "0gcEhVYCyhKx",
        "colab_type": "code",
        "colab": {
          "base_uri": "https://localhost:8080/",
          "height": 1000
        },
        "outputId": "cf48b939-42ea-4ef7-d19a-3c5cd6b45791"
      },
      "source": [
        "num_epoch=40\n",
        "train_loss,train_auc,val_loss,val_auc=train('/content/drive/My Drive/MRNet-v1.0/temp',task='meniscus',epochs=num_epoch,learning_rate=1e-6,use_gpu='cuda',model=model_men,abnormal_model_path='/content/drive/My Drive/MRNet-v1.0/temp/abnormal.pt')"
      ],
      "execution_count": 12,
      "outputs": [
        {
          "output_type": "stream",
          "text": [
            "\r  0%|          | 0/1130 [00:00<?, ?it/s]"
          ],
          "name": "stderr"
        },
        {
          "output_type": "stream",
          "text": [
            "starting epoch 1. time passed: 0:00:00.000014\n"
          ],
          "name": "stdout"
        },
        {
          "output_type": "stream",
          "text": [
            "100%|██████████| 1130/1130 [04:44<00:00,  3.97it/s]\n"
          ],
          "name": "stderr"
        },
        {
          "output_type": "stream",
          "text": [
            "train loss: 0.3540\n",
            "train AUC: 0.4656\n"
          ],
          "name": "stdout"
        },
        {
          "output_type": "stream",
          "text": [
            "100%|██████████| 120/120 [00:38<00:00,  3.09it/s]\n",
            "  0%|          | 0/1130 [00:00<?, ?it/s]"
          ],
          "name": "stderr"
        },
        {
          "output_type": "stream",
          "text": [
            "valid loss: 0.3707\n",
            "valid AUC: 0.7800\n",
            "starting epoch 2. time passed: 0:05:49.665522\n"
          ],
          "name": "stdout"
        },
        {
          "output_type": "stream",
          "text": [
            "100%|██████████| 1130/1130 [03:48<00:00,  4.94it/s]\n"
          ],
          "name": "stderr"
        },
        {
          "output_type": "stream",
          "text": [
            "train loss: 0.3353\n",
            "train AUC: 0.5837\n"
          ],
          "name": "stdout"
        },
        {
          "output_type": "stream",
          "text": [
            "100%|██████████| 120/120 [00:30<00:00,  3.94it/s]\n",
            "  0%|          | 0/1130 [00:00<?, ?it/s]"
          ],
          "name": "stderr"
        },
        {
          "output_type": "stream",
          "text": [
            "valid loss: 0.3445\n",
            "valid AUC: 0.7910\n",
            "starting epoch 3. time passed: 0:10:28.262630\n"
          ],
          "name": "stdout"
        },
        {
          "output_type": "stream",
          "text": [
            "100%|██████████| 1130/1130 [03:49<00:00,  4.93it/s]\n"
          ],
          "name": "stderr"
        },
        {
          "output_type": "stream",
          "text": [
            "train loss: 0.3228\n",
            "train AUC: 0.6822\n"
          ],
          "name": "stdout"
        },
        {
          "output_type": "stream",
          "text": [
            "100%|██████████| 120/120 [00:29<00:00,  4.04it/s]\n",
            "  0%|          | 0/1130 [00:00<?, ?it/s]"
          ],
          "name": "stderr"
        },
        {
          "output_type": "stream",
          "text": [
            "valid loss: 0.3508\n",
            "valid AUC: 0.8057\n",
            "starting epoch 4. time passed: 0:15:09.704378\n"
          ],
          "name": "stdout"
        },
        {
          "output_type": "stream",
          "text": [
            "100%|██████████| 1130/1130 [03:52<00:00,  4.86it/s]\n"
          ],
          "name": "stderr"
        },
        {
          "output_type": "stream",
          "text": [
            "train loss: 0.3129\n",
            "train AUC: 0.7421\n"
          ],
          "name": "stdout"
        },
        {
          "output_type": "stream",
          "text": [
            "100%|██████████| 120/120 [00:30<00:00,  3.98it/s]\n",
            "  0%|          | 0/1130 [00:00<?, ?it/s]"
          ],
          "name": "stderr"
        },
        {
          "output_type": "stream",
          "text": [
            "valid loss: 0.3260\n",
            "valid AUC: 0.8066\n",
            "starting epoch 5. time passed: 0:19:55.828026\n"
          ],
          "name": "stdout"
        },
        {
          "output_type": "stream",
          "text": [
            "100%|██████████| 1130/1130 [04:00<00:00,  4.70it/s]\n"
          ],
          "name": "stderr"
        },
        {
          "output_type": "stream",
          "text": [
            "train loss: 0.3038\n",
            "train AUC: 0.7772\n"
          ],
          "name": "stdout"
        },
        {
          "output_type": "stream",
          "text": [
            "100%|██████████| 120/120 [00:30<00:00,  3.96it/s]\n",
            "  0%|          | 0/1130 [00:00<?, ?it/s]"
          ],
          "name": "stderr"
        },
        {
          "output_type": "stream",
          "text": [
            "valid loss: 0.3257\n",
            "valid AUC: 0.8119\n",
            "starting epoch 6. time passed: 0:24:47.996265\n"
          ],
          "name": "stdout"
        },
        {
          "output_type": "stream",
          "text": [
            "100%|██████████| 1130/1130 [03:50<00:00,  4.90it/s]\n"
          ],
          "name": "stderr"
        },
        {
          "output_type": "stream",
          "text": [
            "train loss: 0.2962\n",
            "train AUC: 0.8115\n"
          ],
          "name": "stdout"
        },
        {
          "output_type": "stream",
          "text": [
            "100%|██████████| 120/120 [00:30<00:00,  3.98it/s]\n",
            "  0%|          | 0/1130 [00:00<?, ?it/s]"
          ],
          "name": "stderr"
        },
        {
          "output_type": "stream",
          "text": [
            "valid loss: 0.3246\n",
            "valid AUC: 0.8091\n",
            "starting epoch 7. time passed: 0:29:28.824815\n"
          ],
          "name": "stdout"
        },
        {
          "output_type": "stream",
          "text": [
            "100%|██████████| 1130/1130 [03:52<00:00,  4.85it/s]\n"
          ],
          "name": "stderr"
        },
        {
          "output_type": "stream",
          "text": [
            "train loss: 0.2873\n",
            "train AUC: 0.8250\n"
          ],
          "name": "stdout"
        },
        {
          "output_type": "stream",
          "text": [
            "100%|██████████| 120/120 [00:30<00:00,  3.89it/s]\n",
            "  0%|          | 0/1130 [00:00<?, ?it/s]"
          ],
          "name": "stderr"
        },
        {
          "output_type": "stream",
          "text": [
            "valid loss: 0.3086\n",
            "valid AUC: 0.8102\n",
            "starting epoch 8. time passed: 0:34:12.069903\n"
          ],
          "name": "stdout"
        },
        {
          "output_type": "stream",
          "text": [
            "100%|██████████| 1130/1130 [03:51<00:00,  4.88it/s]\n"
          ],
          "name": "stderr"
        },
        {
          "output_type": "stream",
          "text": [
            "train loss: 0.2837\n",
            "train AUC: 0.8330\n"
          ],
          "name": "stdout"
        },
        {
          "output_type": "stream",
          "text": [
            "100%|██████████| 120/120 [00:30<00:00,  3.97it/s]\n",
            "  0%|          | 0/1130 [00:00<?, ?it/s]"
          ],
          "name": "stderr"
        },
        {
          "output_type": "stream",
          "text": [
            "valid loss: 0.3139\n",
            "valid AUC: 0.8122\n",
            "starting epoch 9. time passed: 0:38:55.806005\n"
          ],
          "name": "stdout"
        },
        {
          "output_type": "stream",
          "text": [
            "100%|██████████| 1130/1130 [03:55<00:00,  4.81it/s]\n"
          ],
          "name": "stderr"
        },
        {
          "output_type": "stream",
          "text": [
            "train loss: 0.2757\n",
            "train AUC: 0.8510\n"
          ],
          "name": "stdout"
        },
        {
          "output_type": "stream",
          "text": [
            "100%|██████████| 120/120 [00:30<00:00,  3.98it/s]\n",
            "  0%|          | 0/1130 [00:00<?, ?it/s]"
          ],
          "name": "stderr"
        },
        {
          "output_type": "stream",
          "text": [
            "valid loss: 0.3465\n",
            "valid AUC: 0.8156\n",
            "starting epoch 10. time passed: 0:43:41.370585\n"
          ],
          "name": "stdout"
        },
        {
          "output_type": "stream",
          "text": [
            "100%|██████████| 1130/1130 [03:51<00:00,  4.89it/s]\n"
          ],
          "name": "stderr"
        },
        {
          "output_type": "stream",
          "text": [
            "train loss: 0.2695\n",
            "train AUC: 0.8498\n"
          ],
          "name": "stdout"
        },
        {
          "output_type": "stream",
          "text": [
            "100%|██████████| 120/120 [00:30<00:00,  3.91it/s]\n",
            "  0%|          | 0/1130 [00:00<?, ?it/s]"
          ],
          "name": "stderr"
        },
        {
          "output_type": "stream",
          "text": [
            "valid loss: 0.3378\n",
            "valid AUC: 0.8153\n",
            "starting epoch 11. time passed: 0:48:24.427580\n"
          ],
          "name": "stdout"
        },
        {
          "output_type": "stream",
          "text": [
            "100%|██████████| 1130/1130 [03:56<00:00,  4.77it/s]\n"
          ],
          "name": "stderr"
        },
        {
          "output_type": "stream",
          "text": [
            "train loss: 0.2652\n",
            "train AUC: 0.8655\n"
          ],
          "name": "stdout"
        },
        {
          "output_type": "stream",
          "text": [
            "100%|██████████| 120/120 [00:31<00:00,  3.81it/s]\n",
            "  0%|          | 0/1130 [00:00<?, ?it/s]"
          ],
          "name": "stderr"
        },
        {
          "output_type": "stream",
          "text": [
            "valid loss: 0.3316\n",
            "valid AUC: 0.8136\n",
            "starting epoch 12. time passed: 0:53:14.810787\n"
          ],
          "name": "stdout"
        },
        {
          "output_type": "stream",
          "text": [
            "100%|██████████| 1130/1130 [03:50<00:00,  4.91it/s]\n"
          ],
          "name": "stderr"
        },
        {
          "output_type": "stream",
          "text": [
            "train loss: 0.2607\n",
            "train AUC: 0.8730\n"
          ],
          "name": "stdout"
        },
        {
          "output_type": "stream",
          "text": [
            "100%|██████████| 120/120 [00:30<00:00,  3.93it/s]\n",
            "  0%|          | 0/1130 [00:00<?, ?it/s]"
          ],
          "name": "stderr"
        },
        {
          "output_type": "stream",
          "text": [
            "valid loss: 0.3142\n",
            "valid AUC: 0.8114\n",
            "starting epoch 13. time passed: 0:58:00.086554\n"
          ],
          "name": "stdout"
        },
        {
          "output_type": "stream",
          "text": [
            "100%|██████████| 1130/1130 [04:00<00:00,  4.69it/s]\n"
          ],
          "name": "stderr"
        },
        {
          "output_type": "stream",
          "text": [
            "train loss: 0.2570\n",
            "train AUC: 0.8765\n"
          ],
          "name": "stdout"
        },
        {
          "output_type": "stream",
          "text": [
            "100%|██████████| 120/120 [00:30<00:00,  3.99it/s]\n",
            "  0%|          | 0/1130 [00:00<?, ?it/s]"
          ],
          "name": "stderr"
        },
        {
          "output_type": "stream",
          "text": [
            "valid loss: 0.3145\n",
            "valid AUC: 0.8119\n",
            "starting epoch 14. time passed: 1:02:54.474145\n"
          ],
          "name": "stdout"
        },
        {
          "output_type": "stream",
          "text": [
            "100%|██████████| 1130/1130 [03:53<00:00,  4.85it/s]\n"
          ],
          "name": "stderr"
        },
        {
          "output_type": "stream",
          "text": [
            "train loss: 0.2500\n",
            "train AUC: 0.8988\n"
          ],
          "name": "stdout"
        },
        {
          "output_type": "stream",
          "text": [
            "100%|██████████| 120/120 [01:31<00:00,  1.31it/s]\n",
            "  0%|          | 0/1130 [00:00<?, ?it/s]"
          ],
          "name": "stderr"
        },
        {
          "output_type": "stream",
          "text": [
            "valid loss: 0.3079\n",
            "valid AUC: 0.8117\n",
            "starting epoch 15. time passed: 1:08:38.839145\n"
          ],
          "name": "stdout"
        },
        {
          "output_type": "stream",
          "text": [
            "100%|██████████| 1130/1130 [03:52<00:00,  4.87it/s]\n"
          ],
          "name": "stderr"
        },
        {
          "output_type": "stream",
          "text": [
            "train loss: 0.2482\n",
            "train AUC: 0.8999\n"
          ],
          "name": "stdout"
        },
        {
          "output_type": "stream",
          "text": [
            "100%|██████████| 120/120 [00:32<00:00,  3.74it/s]\n",
            "  0%|          | 0/1130 [00:00<?, ?it/s]"
          ],
          "name": "stderr"
        },
        {
          "output_type": "stream",
          "text": [
            "valid loss: 0.3064\n",
            "valid AUC: 0.8108\n",
            "starting epoch 16. time passed: 1:13:21.675607\n"
          ],
          "name": "stdout"
        },
        {
          "output_type": "stream",
          "text": [
            "100%|██████████| 1130/1130 [03:50<00:00,  4.91it/s]\n"
          ],
          "name": "stderr"
        },
        {
          "output_type": "stream",
          "text": [
            "train loss: 0.2472\n",
            "train AUC: 0.9024\n"
          ],
          "name": "stdout"
        },
        {
          "output_type": "stream",
          "text": [
            "100%|██████████| 120/120 [00:31<00:00,  3.83it/s]\n",
            "  0%|          | 0/1130 [00:00<?, ?it/s]"
          ],
          "name": "stderr"
        },
        {
          "output_type": "stream",
          "text": [
            "valid loss: 0.3040\n",
            "valid AUC: 0.8111\n",
            "starting epoch 17. time passed: 1:18:05.322607\n"
          ],
          "name": "stdout"
        },
        {
          "output_type": "stream",
          "text": [
            "100%|██████████| 1130/1130 [04:53<00:00,  3.86it/s]\n"
          ],
          "name": "stderr"
        },
        {
          "output_type": "stream",
          "text": [
            "train loss: 0.2457\n",
            "train AUC: 0.9034\n"
          ],
          "name": "stdout"
        },
        {
          "output_type": "stream",
          "text": [
            "100%|██████████| 120/120 [00:29<00:00,  4.05it/s]\n",
            "  0%|          | 0/1130 [00:00<?, ?it/s]"
          ],
          "name": "stderr"
        },
        {
          "output_type": "stream",
          "text": [
            "valid loss: 0.2990\n",
            "valid AUC: 0.8094\n",
            "starting epoch 18. time passed: 1:23:49.452875\n"
          ],
          "name": "stdout"
        },
        {
          "output_type": "stream",
          "text": [
            "100%|██████████| 1130/1130 [03:50<00:00,  4.91it/s]\n"
          ],
          "name": "stderr"
        },
        {
          "output_type": "stream",
          "text": [
            "train loss: 0.2449\n",
            "train AUC: 0.9018\n"
          ],
          "name": "stdout"
        },
        {
          "output_type": "stream",
          "text": [
            "100%|██████████| 120/120 [00:30<00:00,  3.99it/s]\n",
            "  0%|          | 0/1130 [00:00<?, ?it/s]"
          ],
          "name": "stderr"
        },
        {
          "output_type": "stream",
          "text": [
            "valid loss: 0.3000\n",
            "valid AUC: 0.8102\n",
            "starting epoch 19. time passed: 1:28:32.453082\n"
          ],
          "name": "stdout"
        },
        {
          "output_type": "stream",
          "text": [
            "100%|██████████| 1130/1130 [04:50<00:00,  3.89it/s]\n"
          ],
          "name": "stderr"
        },
        {
          "output_type": "stream",
          "text": [
            "train loss: 0.2432\n",
            "train AUC: 0.9065\n"
          ],
          "name": "stdout"
        },
        {
          "output_type": "stream",
          "text": [
            "100%|██████████| 120/120 [00:30<00:00,  3.96it/s]\n",
            "  0%|          | 0/1130 [00:00<?, ?it/s]"
          ],
          "name": "stderr"
        },
        {
          "output_type": "stream",
          "text": [
            "valid loss: 0.3021\n",
            "valid AUC: 0.8105\n",
            "starting epoch 20. time passed: 1:34:13.921659\n"
          ],
          "name": "stdout"
        },
        {
          "output_type": "stream",
          "text": [
            "100%|██████████| 1130/1130 [03:52<00:00,  4.87it/s]\n"
          ],
          "name": "stderr"
        },
        {
          "output_type": "stream",
          "text": [
            "train loss: 0.2420\n",
            "train AUC: 0.9081\n"
          ],
          "name": "stdout"
        },
        {
          "output_type": "stream",
          "text": [
            "100%|██████████| 120/120 [00:32<00:00,  3.67it/s]\n",
            "  0%|          | 0/1130 [00:00<?, ?it/s]"
          ],
          "name": "stderr"
        },
        {
          "output_type": "stream",
          "text": [
            "valid loss: 0.3014\n",
            "valid AUC: 0.8111\n",
            "starting epoch 21. time passed: 1:38:59.069641\n"
          ],
          "name": "stdout"
        },
        {
          "output_type": "stream",
          "text": [
            "100%|██████████| 1130/1130 [03:53<00:00,  4.84it/s]\n"
          ],
          "name": "stderr"
        },
        {
          "output_type": "stream",
          "text": [
            "train loss: 0.2406\n",
            "train AUC: 0.9099\n"
          ],
          "name": "stdout"
        },
        {
          "output_type": "stream",
          "text": [
            "100%|██████████| 120/120 [00:30<00:00,  3.88it/s]\n",
            "  0%|          | 0/1130 [00:00<?, ?it/s]"
          ],
          "name": "stderr"
        },
        {
          "output_type": "stream",
          "text": [
            "valid loss: 0.2975\n",
            "valid AUC: 0.8100\n",
            "starting epoch 22. time passed: 1:43:43.423610\n"
          ],
          "name": "stdout"
        },
        {
          "output_type": "stream",
          "text": [
            "100%|██████████| 1130/1130 [03:53<00:00,  4.84it/s]\n"
          ],
          "name": "stderr"
        },
        {
          "output_type": "stream",
          "text": [
            "train loss: 0.2399\n",
            "train AUC: 0.9100\n"
          ],
          "name": "stdout"
        },
        {
          "output_type": "stream",
          "text": [
            "100%|██████████| 120/120 [00:30<00:00,  3.90it/s]\n",
            "  0%|          | 0/1130 [00:00<?, ?it/s]"
          ],
          "name": "stderr"
        },
        {
          "output_type": "stream",
          "text": [
            "valid loss: 0.2988\n",
            "valid AUC: 0.8111\n",
            "starting epoch 23. time passed: 1:48:29.208461\n"
          ],
          "name": "stdout"
        },
        {
          "output_type": "stream",
          "text": [
            "100%|██████████| 1130/1130 [03:55<00:00,  4.80it/s]\n"
          ],
          "name": "stderr"
        },
        {
          "output_type": "stream",
          "text": [
            "train loss: 0.2382\n",
            "train AUC: 0.9124\n"
          ],
          "name": "stdout"
        },
        {
          "output_type": "stream",
          "text": [
            "100%|██████████| 120/120 [00:30<00:00,  3.96it/s]\n",
            "  0%|          | 0/1130 [00:00<?, ?it/s]"
          ],
          "name": "stderr"
        },
        {
          "output_type": "stream",
          "text": [
            "valid loss: 0.3024\n",
            "valid AUC: 0.8122\n",
            "starting epoch 24. time passed: 1:53:15.693764\n"
          ],
          "name": "stdout"
        },
        {
          "output_type": "stream",
          "text": [
            "100%|██████████| 1130/1130 [04:06<00:00,  4.58it/s]\n"
          ],
          "name": "stderr"
        },
        {
          "output_type": "stream",
          "text": [
            "train loss: 0.2371\n",
            "train AUC: 0.9149\n"
          ],
          "name": "stdout"
        },
        {
          "output_type": "stream",
          "text": [
            "100%|██████████| 120/120 [00:30<00:00,  3.93it/s]\n",
            "  0%|          | 0/1130 [00:00<?, ?it/s]"
          ],
          "name": "stderr"
        },
        {
          "output_type": "stream",
          "text": [
            "valid loss: 0.3007\n",
            "valid AUC: 0.8117\n",
            "starting epoch 25. time passed: 1:58:13.222587\n"
          ],
          "name": "stdout"
        },
        {
          "output_type": "stream",
          "text": [
            "100%|██████████| 1130/1130 [03:58<00:00,  4.74it/s]\n"
          ],
          "name": "stderr"
        },
        {
          "output_type": "stream",
          "text": [
            "train loss: 0.2360\n",
            "train AUC: 0.9156\n"
          ],
          "name": "stdout"
        },
        {
          "output_type": "stream",
          "text": [
            "100%|██████████| 120/120 [00:31<00:00,  3.78it/s]\n",
            "  0%|          | 0/1130 [00:00<?, ?it/s]"
          ],
          "name": "stderr"
        },
        {
          "output_type": "stream",
          "text": [
            "valid loss: 0.3001\n",
            "valid AUC: 0.8117\n",
            "starting epoch 26. time passed: 2:03:04.878065\n"
          ],
          "name": "stdout"
        },
        {
          "output_type": "stream",
          "text": [
            "100%|██████████| 1130/1130 [03:55<00:00,  4.79it/s]\n"
          ],
          "name": "stderr"
        },
        {
          "output_type": "stream",
          "text": [
            "train loss: 0.2346\n",
            "train AUC: 0.9161\n"
          ],
          "name": "stdout"
        },
        {
          "output_type": "stream",
          "text": [
            "100%|██████████| 120/120 [00:30<00:00,  3.90it/s]\n",
            "  0%|          | 0/1130 [00:00<?, ?it/s]"
          ],
          "name": "stderr"
        },
        {
          "output_type": "stream",
          "text": [
            "valid loss: 0.2963\n",
            "valid AUC: 0.8117\n",
            "starting epoch 27. time passed: 2:07:53.128789\n"
          ],
          "name": "stdout"
        },
        {
          "output_type": "stream",
          "text": [
            "100%|██████████| 1130/1130 [04:12<00:00,  4.48it/s]\n"
          ],
          "name": "stderr"
        },
        {
          "output_type": "stream",
          "text": [
            "train loss: 0.2333\n",
            "train AUC: 0.9200\n"
          ],
          "name": "stdout"
        },
        {
          "output_type": "stream",
          "text": [
            "100%|██████████| 120/120 [00:30<00:00,  3.95it/s]\n",
            "  0%|          | 0/1130 [00:00<?, ?it/s]"
          ],
          "name": "stderr"
        },
        {
          "output_type": "stream",
          "text": [
            "valid loss: 0.2949\n",
            "valid AUC: 0.8111\n",
            "starting epoch 28. time passed: 2:12:59.929534\n"
          ],
          "name": "stdout"
        },
        {
          "output_type": "stream",
          "text": [
            "100%|██████████| 1130/1130 [05:04<00:00,  3.71it/s]\n"
          ],
          "name": "stderr"
        },
        {
          "output_type": "stream",
          "text": [
            "train loss: 0.2326\n",
            "train AUC: 0.9196\n"
          ],
          "name": "stdout"
        },
        {
          "output_type": "stream",
          "text": [
            "100%|██████████| 120/120 [00:34<00:00,  3.50it/s]\n",
            "  0%|          | 0/1130 [00:00<?, ?it/s]"
          ],
          "name": "stderr"
        },
        {
          "output_type": "stream",
          "text": [
            "valid loss: 0.2950\n",
            "valid AUC: 0.8125\n",
            "starting epoch 29. time passed: 2:18:58.357603\n"
          ],
          "name": "stdout"
        },
        {
          "output_type": "stream",
          "text": [
            "100%|██████████| 1130/1130 [03:59<00:00,  4.72it/s]\n"
          ],
          "name": "stderr"
        },
        {
          "output_type": "stream",
          "text": [
            "train loss: 0.2311\n",
            "train AUC: 0.9224\n"
          ],
          "name": "stdout"
        },
        {
          "output_type": "stream",
          "text": [
            "100%|██████████| 120/120 [00:30<00:00,  3.98it/s]\n",
            "  0%|          | 0/1130 [00:00<?, ?it/s]"
          ],
          "name": "stderr"
        },
        {
          "output_type": "stream",
          "text": [
            "valid loss: 0.3054\n",
            "valid AUC: 0.8162\n",
            "starting epoch 30. time passed: 2:23:48.701210\n"
          ],
          "name": "stdout"
        },
        {
          "output_type": "stream",
          "text": [
            "100%|██████████| 1130/1130 [03:55<00:00,  4.80it/s]\n"
          ],
          "name": "stderr"
        },
        {
          "output_type": "stream",
          "text": [
            "train loss: 0.2304\n",
            "train AUC: 0.9219\n"
          ],
          "name": "stdout"
        },
        {
          "output_type": "stream",
          "text": [
            "100%|██████████| 120/120 [00:30<00:00,  3.91it/s]\n",
            "  0%|          | 0/1130 [00:00<?, ?it/s]"
          ],
          "name": "stderr"
        },
        {
          "output_type": "stream",
          "text": [
            "valid loss: 0.3032\n",
            "valid AUC: 0.8165\n",
            "starting epoch 31. time passed: 2:28:35.741600\n"
          ],
          "name": "stdout"
        },
        {
          "output_type": "stream",
          "text": [
            "100%|██████████| 1130/1130 [03:56<00:00,  4.77it/s]\n"
          ],
          "name": "stderr"
        },
        {
          "output_type": "stream",
          "text": [
            "train loss: 0.2287\n",
            "train AUC: 0.9230\n"
          ],
          "name": "stdout"
        },
        {
          "output_type": "stream",
          "text": [
            "100%|██████████| 120/120 [00:32<00:00,  3.70it/s]\n",
            "  0%|          | 0/1130 [00:00<?, ?it/s]"
          ],
          "name": "stderr"
        },
        {
          "output_type": "stream",
          "text": [
            "valid loss: 0.3033\n",
            "valid AUC: 0.8170\n",
            "starting epoch 32. time passed: 2:33:25.237456\n"
          ],
          "name": "stdout"
        },
        {
          "output_type": "stream",
          "text": [
            "100%|██████████| 1130/1130 [03:52<00:00,  4.85it/s]\n"
          ],
          "name": "stderr"
        },
        {
          "output_type": "stream",
          "text": [
            "train loss: 0.2277\n",
            "train AUC: 0.9239\n"
          ],
          "name": "stdout"
        },
        {
          "output_type": "stream",
          "text": [
            "100%|██████████| 120/120 [00:30<00:00,  3.88it/s]\n",
            "  0%|          | 0/1130 [00:00<?, ?it/s]"
          ],
          "name": "stderr"
        },
        {
          "output_type": "stream",
          "text": [
            "valid loss: 0.2942\n",
            "valid AUC: 0.8136\n",
            "starting epoch 33. time passed: 2:38:08.698740\n"
          ],
          "name": "stdout"
        },
        {
          "output_type": "stream",
          "text": [
            "100%|██████████| 1130/1130 [03:50<00:00,  4.90it/s]\n"
          ],
          "name": "stderr"
        },
        {
          "output_type": "stream",
          "text": [
            "train loss: 0.2270\n",
            "train AUC: 0.9241\n"
          ],
          "name": "stdout"
        },
        {
          "output_type": "stream",
          "text": [
            "100%|██████████| 120/120 [00:30<00:00,  3.95it/s]\n",
            "  0%|          | 0/1130 [00:00<?, ?it/s]"
          ],
          "name": "stderr"
        },
        {
          "output_type": "stream",
          "text": [
            "valid loss: 0.2948\n",
            "valid AUC: 0.8156\n",
            "starting epoch 34. time passed: 2:42:56.680142\n"
          ],
          "name": "stdout"
        },
        {
          "output_type": "stream",
          "text": [
            "100%|██████████| 1130/1130 [03:53<00:00,  4.84it/s]\n"
          ],
          "name": "stderr"
        },
        {
          "output_type": "stream",
          "text": [
            "train loss: 0.2259\n",
            "train AUC: 0.9280\n"
          ],
          "name": "stdout"
        },
        {
          "output_type": "stream",
          "text": [
            "100%|██████████| 120/120 [00:30<00:00,  3.91it/s]\n",
            "  0%|          | 0/1130 [00:00<?, ?it/s]"
          ],
          "name": "stderr"
        },
        {
          "output_type": "stream",
          "text": [
            "valid loss: 0.3017\n",
            "valid AUC: 0.8182\n",
            "starting epoch 35. time passed: 2:47:41.493231\n"
          ],
          "name": "stdout"
        },
        {
          "output_type": "stream",
          "text": [
            "100%|██████████| 1130/1130 [03:51<00:00,  4.89it/s]\n"
          ],
          "name": "stderr"
        },
        {
          "output_type": "stream",
          "text": [
            "train loss: 0.2248\n",
            "train AUC: 0.9268\n"
          ],
          "name": "stdout"
        },
        {
          "output_type": "stream",
          "text": [
            "100%|██████████| 120/120 [00:30<00:00,  3.88it/s]\n",
            "  0%|          | 0/1130 [00:00<?, ?it/s]"
          ],
          "name": "stderr"
        },
        {
          "output_type": "stream",
          "text": [
            "valid loss: 0.2928\n",
            "valid AUC: 0.8148\n",
            "starting epoch 36. time passed: 2:52:23.980329\n"
          ],
          "name": "stdout"
        },
        {
          "output_type": "stream",
          "text": [
            "100%|██████████| 1130/1130 [04:04<00:00,  4.62it/s]\n"
          ],
          "name": "stderr"
        },
        {
          "output_type": "stream",
          "text": [
            "train loss: 0.2236\n",
            "train AUC: 0.9303\n"
          ],
          "name": "stdout"
        },
        {
          "output_type": "stream",
          "text": [
            "100%|██████████| 120/120 [00:30<00:00,  3.97it/s]\n",
            "  0%|          | 0/1130 [00:00<?, ?it/s]"
          ],
          "name": "stderr"
        },
        {
          "output_type": "stream",
          "text": [
            "valid loss: 0.3048\n",
            "valid AUC: 0.8179\n",
            "starting epoch 37. time passed: 2:57:18.822042\n"
          ],
          "name": "stdout"
        },
        {
          "output_type": "stream",
          "text": [
            "100%|██████████| 1130/1130 [03:54<00:00,  4.82it/s]\n"
          ],
          "name": "stderr"
        },
        {
          "output_type": "stream",
          "text": [
            "train loss: 0.2225\n",
            "train AUC: 0.9303\n"
          ],
          "name": "stdout"
        },
        {
          "output_type": "stream",
          "text": [
            "100%|██████████| 120/120 [00:30<00:00,  3.95it/s]\n",
            "  0%|          | 0/1130 [00:00<?, ?it/s]"
          ],
          "name": "stderr"
        },
        {
          "output_type": "stream",
          "text": [
            "valid loss: 0.2983\n",
            "valid AUC: 0.8173\n",
            "starting epoch 38. time passed: 3:02:07.203004\n"
          ],
          "name": "stdout"
        },
        {
          "output_type": "stream",
          "text": [
            "100%|██████████| 1130/1130 [03:58<00:00,  4.74it/s]\n"
          ],
          "name": "stderr"
        },
        {
          "output_type": "stream",
          "text": [
            "train loss: 0.2217\n",
            "train AUC: 0.9319\n"
          ],
          "name": "stdout"
        },
        {
          "output_type": "stream",
          "text": [
            "100%|██████████| 120/120 [00:30<00:00,  3.90it/s]\n",
            "  0%|          | 0/1130 [00:00<?, ?it/s]"
          ],
          "name": "stderr"
        },
        {
          "output_type": "stream",
          "text": [
            "valid loss: 0.2967\n",
            "valid AUC: 0.8173\n",
            "starting epoch 39. time passed: 3:06:52.457005\n"
          ],
          "name": "stdout"
        },
        {
          "output_type": "stream",
          "text": [
            "100%|██████████| 1130/1130 [03:55<00:00,  4.80it/s]\n"
          ],
          "name": "stderr"
        },
        {
          "output_type": "stream",
          "text": [
            "train loss: 0.2206\n",
            "train AUC: 0.9331\n"
          ],
          "name": "stdout"
        },
        {
          "output_type": "stream",
          "text": [
            "100%|██████████| 120/120 [00:30<00:00,  3.89it/s]\n",
            "  0%|          | 0/1130 [00:00<?, ?it/s]"
          ],
          "name": "stderr"
        },
        {
          "output_type": "stream",
          "text": [
            "valid loss: 0.2987\n",
            "valid AUC: 0.8179\n",
            "starting epoch 40. time passed: 3:11:35.956819\n"
          ],
          "name": "stdout"
        },
        {
          "output_type": "stream",
          "text": [
            "100%|██████████| 1130/1130 [03:52<00:00,  4.85it/s]\n"
          ],
          "name": "stderr"
        },
        {
          "output_type": "stream",
          "text": [
            "train loss: 0.2194\n",
            "train AUC: 0.9365\n"
          ],
          "name": "stdout"
        },
        {
          "output_type": "stream",
          "text": [
            "100%|██████████| 120/120 [00:30<00:00,  3.92it/s]"
          ],
          "name": "stderr"
        },
        {
          "output_type": "stream",
          "text": [
            "valid loss: 0.3013\n",
            "valid AUC: 0.8182\n"
          ],
          "name": "stdout"
        },
        {
          "output_type": "stream",
          "text": [
            "\n"
          ],
          "name": "stderr"
        }
      ]
    },
    {
      "cell_type": "code",
      "metadata": {
        "id": "cgG0gjZizopT",
        "colab_type": "code",
        "colab": {
          "base_uri": "https://localhost:8080/",
          "height": 312
        },
        "outputId": "61954747-e8e3-45ce-dc1a-80d993ee3b3e"
      },
      "source": [
        "plotting_graph(num_epoch,train_loss,\"epochs\",\"train loss\",\"meniscus training loss\")"
      ],
      "execution_count": 13,
      "outputs": [
        {
          "output_type": "display_data",
          "data": {
            "image/png": "[encoded data removed]",
            "text/plain": [
              "<Figure size 432x288 with 1 Axes>"
            ]
          },
          "metadata": {
            "tags": [],
            "needs_background": "light"
          }
        },
        {
          "output_type": "display_data",
          "data": {
            "text/plain": [
              "<Figure size 432x288 with 0 Axes>"
            ]
          },
          "metadata": {
            "tags": []
          }
        }
      ]
    },
    {
      "cell_type": "code",
      "metadata": {
        "id": "Tc8SgZy7VM5C",
        "colab_type": "code",
        "colab": {
          "base_uri": "https://localhost:8080/",
          "height": 312
        },
        "outputId": "644d2872-78df-4573-b240-c25de2222c39"
      },
      "source": [
        "plotting_graph(num_epoch,val_loss,\"epochs\",\"valid loss\",\"meniscus validation loss\")"
      ],
      "execution_count": 14,
      "outputs": [
        {
          "output_type": "display_data",
          "data": {
            "image/png": "[encoded data removed]",
            "text/plain": [
              "<Figure size 432x288 with 1 Axes>"
            ]
          },
          "metadata": {
            "tags": [],
            "needs_background": "light"
          }
        },
        {
          "output_type": "display_data",
          "data": {
            "text/plain": [
              "<Figure size 432x288 with 0 Axes>"
            ]
          },
          "metadata": {
            "tags": []
          }
        }
      ]
    },
    {
      "cell_type": "code",
      "metadata": {
        "id": "d_5ydAgGVON2",
        "colab_type": "code",
        "colab": {
          "base_uri": "https://localhost:8080/",
          "height": 312
        },
        "outputId": "bb263661-b68e-4493-cfe1-c522d1189d4a"
      },
      "source": [
        "plotting_graph(num_epoch,train_auc,\"epochs\",\"train accuracy\",\"meniscus training accuracy\")"
      ],
      "execution_count": 15,
      "outputs": [
        {
          "output_type": "display_data",
          "data": {
            "image/png": "[encoded data removed]",
            "text/plain": [
              "<Figure size 432x288 with 1 Axes>"
            ]
          },
          "metadata": {
            "tags": [],
            "needs_background": "light"
          }
        },
        {
          "output_type": "display_data",
          "data": {
            "text/plain": [
              "<Figure size 432x288 with 0 Axes>"
            ]
          },
          "metadata": {
            "tags": []
          }
        }
      ]
    },
    {
      "cell_type": "code",
      "metadata": {
        "id": "29B98HvKwA2U",
        "colab_type": "code",
        "colab": {
          "base_uri": "https://localhost:8080/",
          "height": 312
        },
        "outputId": "720918c9-e469-47d4-b40e-643036fc958e"
      },
      "source": [
        "plotting_graph(num_epoch,val_auc,\"epochs\",\"valid accuracy\",\"meniscus validation accuracy\")"
      ],
      "execution_count": 16,
      "outputs": [
        {
          "output_type": "display_data",
          "data": {
            "image/png": "[encoded data removed]",
            "text/plain": [
              "<Figure size 432x288 with 1 Axes>"
            ]
          },
          "metadata": {
            "tags": [],
            "needs_background": "light"
          }
        },
        {
          "output_type": "display_data",
          "data": {
            "text/plain": [
              "<Figure size 432x288 with 0 Axes>"
            ]
          },
          "metadata": {
            "tags": []
          }
        }
      ]
    },
    {
      "cell_type": "code",
      "metadata": {
        "id": "4IrlWKORSE1i",
        "colab_type": "code",
        "colab": {}
      },
      "source": [
        "torch.save(model_men.state_dict(), '/content/drive/My Drive/MRNet-v1.0/temp/meniscus.pt')"
      ],
      "execution_count": 17,
      "outputs": []
    },
    {
      "cell_type": "code",
      "metadata": {
        "id": "PazjRUvTS-eH",
        "colab_type": "code",
        "colab": {}
      },
      "source": [
        "def preprocess(series):\n",
        "        pad = int((series.shape[2] - INPUT_DIM)/2)\n",
        "        series = series[:,pad:-pad,pad:-pad]\n",
        "        series = (series-np.min(series))/(np.max(series)-np.min(series))*MAX_PIXEL_VAL\n",
        "        series = (series - MEAN) / STDDEV\n",
        "        series = np.stack((series,)*3, axis=1)\n",
        "        series_float = torch.FloatTensor(series)\n",
        "        return series_float\n",
        "\n",
        "def get_study(axial_path, sagit_path, coron_path):\n",
        "    vol_axial = np.load(axial_path)\n",
        "    vol_sagit = np.load(sagit_path)\n",
        "    vol_coron = np.load(coron_path)\n",
        "    # axial\n",
        "    vol_axial_tensor = preprocess(vol_axial)\n",
        "    # sagittal\n",
        "    vol_sagit_tensor =preprocess(vol_sagit)\n",
        "    # coronal\n",
        "    vol_coron_tensor = preprocess(vol_coron)\n",
        "    \n",
        "    return {\"axial\": vol_axial_tensor,\n",
        "            \"sagit\": vol_sagit_tensor,\n",
        "            \"coron\": vol_coron_tensor}\n",
        "\n",
        "\n",
        "def get_prediction(model, tensors, abnormality_prior=None):\n",
        "    vol_axial = tensors[\"axial\"].cuda()\n",
        "    vol_sagit = tensors[\"sagit\"].cuda()\n",
        "    vol_coron = tensors[\"coron\"].cuda()\n",
        "\n",
        "    vol_axial = Variable(vol_axial)\n",
        "    vol_sagit = Variable(vol_sagit)\n",
        "    vol_coron = Variable(vol_coron)\n",
        "\n",
        "    logit = model.forward(vol_axial, vol_sagit, vol_coron)\n",
        "    pred = torch.sigmoid(logit)\n",
        "    pred_npy = pred.data.cpu().numpy()[0][0]\n",
        "    \n",
        "    if abnormality_prior:\n",
        "        pred_npy = pred_npy * abnormality_prior\n",
        "\n",
        "    return pred_npy\n",
        "\n",
        "\n",
        "def lets_predict3()\n",
        "    # Assuming that the input csv has all three views for each ID.\n",
        "    # And that entries are sorted by ID.\n",
        "    views = []\n",
        "    for i, fpath in enumerate(open(input_csv_path).readlines()):\n",
        "        if \"axial\" in fpath:\n",
        "            axial_path = fpath.strip()\n",
        "        elif \"sagittal\" in fpath:\n",
        "            sagit_path = fpath.strip()\n",
        "        elif \"coronal\" in fpath:\n",
        "            coron_path = fpath.strip()\n",
        "        if i%3==2:\n",
        "            views.append(get_study(axial_path, sagit_path, coron_path))\n",
        "\n",
        "\n",
        "    # Loading all models\n",
        "    abnormal_model_path = \"src/abnormal_triple_alex/val0.1071_train0.0868_epoch8\"\n",
        "    acl_model_path = \"src/acl_triple_alex/val0.1310_train0.0504_epoch30\"\n",
        "    meniscal_model_path = \"src/meniscal_triple_alex/val0.2645_train0.1142_epoch22\"\n",
        "\n",
        "\n",
        "    # Getting predictions\n",
        "    abnormality = []\n",
        "    acl_tear = []\n",
        "    meniscal_tear = []\n",
        "    \n",
        "    abnormal_model = MRI_alex( training=False)\n",
        "    state_dict = torch.load(abnormal_model_path)\n",
        "    abnormal_model.load_state_dict(state_dict)\n",
        "    abnormal_model.cuda()\n",
        "    abnormal_model.eval()\n",
        "    for study in views:\n",
        "        abnormality.append(get_prediction(\n",
        "                abnormal_model,\n",
        "                study,\n",
        "                abnormality_prior=None))\n",
        "    del abnormal_model\n",
        "\n",
        "    acl_model = MRI_alex( training=False)\n",
        "    state_dict = torch.load(acl_model_path)\n",
        "    acl_model.load_state_dict(state_dict)\n",
        "    acl_model.cuda()\n",
        "    acl_model.eval()\n",
        "    for idx,study in enumerate(views):\n",
        "        acl_tear.append(get_prediction(\n",
        "                acl_model,\n",
        "                study,\n",
        "                abnormality_prior=abnormality[idx]))\n",
        "    del acl_model\n",
        "\n",
        "    meniscal_model = MRI_alex(training=False)\n",
        "    state_dict = torch.load(meniscal_model_path)\n",
        "    meniscal_model.load_state_dict(state_dict)\n",
        "    meniscal_model.cuda()\n",
        "    meniscal_model.eval()\n",
        "    for idx,study in enumerate(views):\n",
        "        meniscal_tear.append(get_prediction(\n",
        "                meniscal_model,\n",
        "                study,\n",
        "                abnormality_prior=abnormality[idx]))\n",
        "    del meniscal_model\n",
        "    \n",
        "\n",
        "    with open(preds_csv_path, \"w\") as csv_file:        \n",
        "        for i in range(len(abnormality)):\n",
        "            csv_file.write(\",\".join(\n",
        "                [str(abnormality[i]), str(acl_tear[i]), str(meniscal_tear[i])]))\n",
        "            csv_file.write(\"\\n\""
      ],
      "execution_count": null,
      "outputs": []
    },
    {
      "cell_type": "code",
      "metadata": {
        "id": "FEfoW144OK8r",
        "colab_type": "code",
        "colab": {
          "base_uri": "https://localhost:8080/",
          "height": 34
        },
        "outputId": "afb8d196-56a8-4d3c-8583-30749cc5b426"
      },
      "source": [
        "get_prediction(model_ab,get_study(\"/content/drive/My Drive/MRNet-v1.0/valid/axial/1135.npy\",\"/content/drive/My Drive/MRNet-v1.0/valid/sagittal/1135.npy\",\"/content/drive/My Drive/MRNet-v1.0/valid/coronal/1135.npy\"))"
      ],
      "execution_count": null,
      "outputs": [
        {
          "output_type": "execute_result",
          "data": {
            "text/plain": [
              "0.6930317"
            ]
          },
          "metadata": {
            "tags": []
          },
          "execution_count": 45
        }
      ]
    }
  ]
}