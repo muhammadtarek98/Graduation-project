{
  "nbformat": 4,
  "nbformat_minor": 0,
  "metadata": {
    "colab": {
      "name": "Copy of Welcome To Colaboratory",
      "provenance": [],
      "collapsed_sections": []
    },
    "kernelspec": {
      "display_name": "Python 3",
      "name": "python3"
    },
    "accelerator": "GPU"
  },
  "cells": [
    {
      "cell_type": "code",
      "metadata": {
        "id": "xNT1zDpuSFSr",
        "colab_type": "code",
        "colab": {}
      },
      "source": [
        "from google.colab import drive\n",
        "drive.mount('/content/drive')"
      ],
      "execution_count": null,
      "outputs": []
    },
    {
      "cell_type": "code",
      "metadata": {
        "id": "A6WIRLGxNOBg",
        "colab_type": "code",
        "colab": {}
      },
      "source": [
        "# import pdb\n",
        "import torch\n",
        "import torch.nn as nn\n",
        "from torchvision import models\n",
        "import numpy as np\n",
        "import os\n",
        "# import pickle\n",
        "import torch\n",
        "import torch.nn.functional as F\n",
        "import torch.utils.data as data\n",
        "# import pdb\n",
        "from torch.autograd import Variable\n",
        "# import argparse\n",
        "##\n",
        "# import matplotlib.pyplot as plt\n",
        "import os\n",
        "import numpy as np\n",
        "import torch\n",
        "# from tqdm import tqdm\n",
        "# import argparse\n",
        "# import json\n",
        "import numpy as np\n",
        "import os\n",
        "import torch\n",
        "# from datetime import datetime\n",
        "# from pathlib import Path\n",
        "##\n",
        "# from sklearn import metrics\n",
        "# import pdb\n",
        "# from sklearn import metrics\n",
        "# import argparse\n",
        "# import json\n",
        "import numpy as np\n",
        "import os\n",
        "import torch\n",
        "from pathlib import Path\n",
        "from sklearn import metrics\n",
        "from torch.autograd import Variable\n",
        "\n",
        "INPUT_DIM = 224\n",
        "MAX_PIXEL_VAL = 255\n",
        "MEAN = 58.09\n",
        "STDDEV = 49.73\n",
        "\n",
        "\n",
        "def preprocess(series):\n",
        "        pad = int((series.shape[2] - INPUT_DIM)/2)\n",
        "        series = series[:,pad:-pad,pad:-pad]\n",
        "        series = (series-np.min(series))/(np.max(series)-np.min(series))*MAX_PIXEL_VAL\n",
        "        series = (series - MEAN) / STDDEV\n",
        "        series = np.stack((series,)*3, axis=1)\n",
        "        series_float = torch.FloatTensor(series)\n",
        "        return series_float\n",
        "\n",
        "def get_study(axial_path, sagit_path, coron_path):\n",
        "    vol_axial = np.load(axial_path)\n",
        "    vol_sagit = np.load(sagit_path)\n",
        "    vol_coron = np.load(coron_path)\n",
        "    # axial\n",
        "    vol_axial_tensor = preprocess(vol_axial)\n",
        "    # sagittal\n",
        "    vol_sagit_tensor =preprocess(vol_sagit)\n",
        "    # coronal\n",
        "    vol_coron_tensor = preprocess(vol_coron)\n",
        "\n",
        "    return {\"axial\": vol_axial_tensor,\n",
        "            \"sagit\": vol_sagit_tensor,\n",
        "            \"coron\": vol_coron_tensor}\n",
        "\n",
        "\n",
        "def get_prediction(model, tensors, abnormality_prior=None):\n",
        "  vol_axial = tensors[\"axial\"]\n",
        "  vol_sagit = tensors[\"sagit\"]\n",
        "  vol_coron = tensors[\"coron\"]\n",
        "\n",
        "  if torch.cuda.is_available():\n",
        "    vol_axial = tensors[\"axial\"].cuda()\n",
        "    vol_sagit = tensors[\"sagit\"].cuda()\n",
        "    vol_coron = tensors[\"coron\"].cuda()\n",
        "\n",
        "  vol_axial = Variable(vol_axial)\n",
        "  vol_sagit = Variable(vol_sagit)\n",
        "  vol_coron = Variable(vol_coron)\n",
        "\n",
        "  logit = model.forward(vol_axial, vol_sagit, vol_coron)\n",
        "  pred = torch.sigmoid(logit)\n",
        "  pred_npy = pred.data.cpu().numpy()[0][0]\n",
        "\n",
        "  if abnormality_prior:\n",
        "        pred_npy = pred_npy * abnormality_prior\n",
        "  return pred_npy"
      ],
      "execution_count": null,
      "outputs": []
    },
    {
      "cell_type": "code",
      "metadata": {
        "id": "bA7acbxfaTSJ",
        "colab_type": "code",
        "colab": {}
      },
      "source": [
        "class MRI_alex(nn.Module):\n",
        "  def __init__(self, training=True):\n",
        "    super().__init__()\n",
        "    self.axial_net = models.alexnet(pretrained=training)\n",
        "    self.sagit_net = models.alexnet(pretrained=training)\n",
        "    self.coron_net = models.alexnet(pretrained=training)\n",
        "\n",
        "    self.gap_axial = nn.AdaptiveAvgPool2d(1)\n",
        "    self.gap_sagit = nn.AdaptiveAvgPool2d(1)\n",
        "    self.gap_coron = nn.AdaptiveAvgPool2d(1)\n",
        "    self.classifier = nn.Linear(3*256, 1)\n",
        "\n",
        "  def forward(self,vol_axial, vol_sagit, vol_coron):\n",
        "    vol_axial = torch.squeeze(vol_axial, dim=0)\n",
        "    vol_sagit = torch.squeeze(vol_sagit, dim=0)\n",
        "    vol_coron = torch.squeeze(vol_coron, dim=0)\n",
        "\n",
        "    vol_axial = self.axial_net.features(vol_axial)\n",
        "    vol_sagit = self.sagit_net.features(vol_sagit)\n",
        "    vol_coron = self.coron_net.features(vol_coron)\n",
        "\n",
        "    vol_axial = self.gap_axial(vol_axial).view(vol_axial.size(0), -1)\n",
        "    x = torch.max(vol_axial, 0, keepdim=True)[0]\n",
        "\n",
        "    vol_sagit = self.gap_sagit(vol_sagit).view(vol_sagit.size(0), -1)\n",
        "    y = torch.max(vol_sagit, 0, keepdim=True)[0]\n",
        "\n",
        "    vol_coron = self.gap_coron(vol_coron).view(vol_coron.size(0), -1)\n",
        "    z = torch.max(vol_coron, 0, keepdim=True)[0]\n",
        "\n",
        "    w = torch.cat((x, y, z), 1)\n",
        "    out = self.classifier(w)\n",
        "    return out"
      ],
      "execution_count": null,
      "outputs": []
    },
    {
      "cell_type": "code",
      "metadata": {
        "id": "9OmBLrBCzNlk",
        "colab_type": "code",
        "colab": {}
      },
      "source": [
        "print(torch.cuda.is_available())"
      ],
      "execution_count": null,
      "outputs": []
    },
    {
      "cell_type": "code",
      "metadata": {
        "id": "UEThBvuYUYvW",
        "colab_type": "code",
        "colab": {}
      },
      "source": [
        "model_ab=MRI_alex(False)\n",
        "model_path=\"\"\n",
        "if torch.cuda.is_available():\n",
        "  model_ab.load_state_dict(torch.load(model_path,map_location=torch.device('cuda')))\n",
        "else:\n",
        "  model_ab.load_state_dict(torch.load(model_path,map_location=torch.device('cpu')))"
      ],
      "execution_count": null,
      "outputs": []
    },
    {
      "cell_type": "code",
      "metadata": {
        "id": "0Mz0U33kQDHb",
        "colab_type": "code",
        "colab": {}
      },
      "source": [
        "#get_prediction(model_ab,get_study(\"/content/drive/My Drive/MRNet-v1.0/valid/axial/1135.npy\",\"/content/drive/My Drive/MRNet-v1.0/valid/sagittal/1135.npy\",\"/content/drive/My Drive/MRNet-v1.0/valid/coronal/1135.npy\"))\n",
        "#get_prediction(model_ab,get_study(\"E:\\\\fci\\\\grad project\\\\I-MRI\\\\knee\\\\MRNet-v1.0\\\\valid\\\\axial\\\\1135.npy\",\"E:\\\\fci\\\\grad project\\\\I-MRI\\\\knee\\\\MRNet-v1.0\\\\valid\\\\sagittal\\\\1135.npy\",\"E:\\\\fci\\\\grad project\\\\I-MRI\\\\knee\\\\MRNet-v1.0\\\\valid\\\\coronal\\\\1135.npy\"))"
      ],
      "execution_count": null,
      "outputs": []
    }
  ]
}